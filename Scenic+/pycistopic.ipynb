{
 "cells": [
  {
   "cell_type": "markdown",
   "id": "1ed486da",
   "metadata": {},
   "source": [
    "# scATAC-seq preprocessing + pycisTopic"
   ]
  },
  {
   "cell_type": "markdown",
   "id": "579416e9",
   "metadata": {},
   "source": [
    "Import libraries and work directory"
   ]
  },
  {
   "cell_type": "code",
   "execution_count": 35,
   "id": "09777b47",
   "metadata": {},
   "outputs": [],
   "source": [
    "import pandas as pd\n",
    "import os\n",
    "import anndata\n",
    "import scanpy as sc\n",
    "from scipy.sparse import csr_matrix\n",
    "from tqdm import tqdm\n",
    "import numpy as np\n",
    "\n",
    "work_dir = 'output'\n",
    "os.makedirs(f'{work_dir}/scATAC', exist_ok=True)"
   ]
  },
  {
   "cell_type": "markdown",
   "id": "2bc3d683",
   "metadata": {},
   "source": [
    "Read the data"
   ]
  },
  {
   "cell_type": "code",
   "execution_count": 2,
   "id": "74f8b40e-eeb8-4bca-9a13-6c7637f22276",
   "metadata": {},
   "outputs": [],
   "source": [
    "# read multiomics data \n",
    "multiome_var_meta = pd.read_csv('/home/roger/Github/OpenProblems/multiome_var_meta.csv')\n",
    "multiome_train = pd.read_parquet('/home/roger/Github/OpenProblems/multiome_train.parquet')\n",
    "multiome_obs_meta = pd.read_csv('/home/roger/Github/OpenProblems/multiome_obs_meta.csv')"
   ]
  },
  {
   "cell_type": "markdown",
   "id": "4917caa2",
   "metadata": {},
   "source": [
    "Create peaks matrix"
   ]
  },
  {
   "cell_type": "code",
   "execution_count": 3,
   "id": "e78ad23e-7aa2-48a8-a2fc-a76245411b51",
   "metadata": {},
   "outputs": [],
   "source": [
    "# extract only peaks\n",
    "peaks_locations = multiome_var_meta[multiome_var_meta['feature_type']=='Peaks']['location'].values\n",
    "df_peaks = multiome_train[multiome_train['location'].isin(peaks_locations)].reset_index(drop=True)\n",
    "del multiome_train\n"
   ]
  },
  {
   "cell_type": "code",
   "execution_count": 4,
   "id": "4bfd35c7-7d0e-41ba-9e28-8b7d533385e5",
   "metadata": {},
   "outputs": [
    {
     "data": {
      "text/html": [
       "<div>\n",
       "<style scoped>\n",
       "    .dataframe tbody tr th:only-of-type {\n",
       "        vertical-align: middle;\n",
       "    }\n",
       "\n",
       "    .dataframe tbody tr th {\n",
       "        vertical-align: top;\n",
       "    }\n",
       "\n",
       "    .dataframe thead th {\n",
       "        text-align: right;\n",
       "    }\n",
       "</style>\n",
       "<table border=\"1\" class=\"dataframe\">\n",
       "  <thead>\n",
       "    <tr style=\"text-align: right;\">\n",
       "      <th></th>\n",
       "      <th>obs_id</th>\n",
       "      <th>location</th>\n",
       "      <th>count</th>\n",
       "      <th>normalized_count</th>\n",
       "    </tr>\n",
       "  </thead>\n",
       "  <tbody>\n",
       "    <tr>\n",
       "      <th>0</th>\n",
       "      <td>000225c1151ab841</td>\n",
       "      <td>chr10:100346599-100347467</td>\n",
       "      <td>2</td>\n",
       "      <td>2.664076</td>\n",
       "    </tr>\n",
       "    <tr>\n",
       "      <th>1</th>\n",
       "      <td>000225c1151ab841</td>\n",
       "      <td>chr10:101214564-101215355</td>\n",
       "      <td>2</td>\n",
       "      <td>4.966185</td>\n",
       "    </tr>\n",
       "    <tr>\n",
       "      <th>2</th>\n",
       "      <td>000225c1151ab841</td>\n",
       "      <td>chr10:101353529-101354425</td>\n",
       "      <td>4</td>\n",
       "      <td>1.627825</td>\n",
       "    </tr>\n",
       "    <tr>\n",
       "      <th>3</th>\n",
       "      <td>000225c1151ab841</td>\n",
       "      <td>chr10:101830364-101831303</td>\n",
       "      <td>2</td>\n",
       "      <td>1.333610</td>\n",
       "    </tr>\n",
       "    <tr>\n",
       "      <th>4</th>\n",
       "      <td>000225c1151ab841</td>\n",
       "      <td>chr10:102064862-102065750</td>\n",
       "      <td>2</td>\n",
       "      <td>1.588739</td>\n",
       "    </tr>\n",
       "    <tr>\n",
       "      <th>...</th>\n",
       "      <td>...</td>\n",
       "      <td>...</td>\n",
       "      <td>...</td>\n",
       "      <td>...</td>\n",
       "    </tr>\n",
       "    <tr>\n",
       "      <th>173485197</th>\n",
       "      <td>ffffeba9dbf2bab1</td>\n",
       "      <td>chrY:19499847-19500746</td>\n",
       "      <td>1</td>\n",
       "      <td>3.342186</td>\n",
       "    </tr>\n",
       "    <tr>\n",
       "      <th>173485198</th>\n",
       "      <td>ffffeba9dbf2bab1</td>\n",
       "      <td>chrY:19566990-19567754</td>\n",
       "      <td>1</td>\n",
       "      <td>1.154666</td>\n",
       "    </tr>\n",
       "    <tr>\n",
       "      <th>173485199</th>\n",
       "      <td>ffffeba9dbf2bab1</td>\n",
       "      <td>chrY:20735890-20736626</td>\n",
       "      <td>3</td>\n",
       "      <td>7.049924</td>\n",
       "    </tr>\n",
       "    <tr>\n",
       "      <th>173485200</th>\n",
       "      <td>ffffeba9dbf2bab1</td>\n",
       "      <td>chrY:21260054-21260842</td>\n",
       "      <td>2</td>\n",
       "      <td>3.967924</td>\n",
       "    </tr>\n",
       "    <tr>\n",
       "      <th>173485201</th>\n",
       "      <td>ffffeba9dbf2bab1</td>\n",
       "      <td>chrY:7273431-7274301</td>\n",
       "      <td>2</td>\n",
       "      <td>1.250685</td>\n",
       "    </tr>\n",
       "  </tbody>\n",
       "</table>\n",
       "<p>173485202 rows × 4 columns</p>\n",
       "</div>"
      ],
      "text/plain": [
       "                     obs_id                   location  count  \\\n",
       "0          000225c1151ab841  chr10:100346599-100347467      2   \n",
       "1          000225c1151ab841  chr10:101214564-101215355      2   \n",
       "2          000225c1151ab841  chr10:101353529-101354425      4   \n",
       "3          000225c1151ab841  chr10:101830364-101831303      2   \n",
       "4          000225c1151ab841  chr10:102064862-102065750      2   \n",
       "...                     ...                        ...    ...   \n",
       "173485197  ffffeba9dbf2bab1     chrY:19499847-19500746      1   \n",
       "173485198  ffffeba9dbf2bab1     chrY:19566990-19567754      1   \n",
       "173485199  ffffeba9dbf2bab1     chrY:20735890-20736626      3   \n",
       "173485200  ffffeba9dbf2bab1     chrY:21260054-21260842      2   \n",
       "173485201  ffffeba9dbf2bab1       chrY:7273431-7274301      2   \n",
       "\n",
       "           normalized_count  \n",
       "0                  2.664076  \n",
       "1                  4.966185  \n",
       "2                  1.627825  \n",
       "3                  1.333610  \n",
       "4                  1.588739  \n",
       "...                     ...  \n",
       "173485197          3.342186  \n",
       "173485198          1.154666  \n",
       "173485199          7.049924  \n",
       "173485200          3.967924  \n",
       "173485201          1.250685  \n",
       "\n",
       "[173485202 rows x 4 columns]"
      ]
     },
     "execution_count": 4,
     "metadata": {},
     "output_type": "execute_result"
    }
   ],
   "source": [
    "df_peaks"
   ]
  },
  {
   "cell_type": "code",
   "execution_count": 5,
   "id": "7194edaa-d8aa-44ae-8ab3-f720a7b46b71",
   "metadata": {},
   "outputs": [],
   "source": [
    "donor_id = 'donor_0'\n",
    "adata = anndata.read_h5ad(f'output/scATAC/adata_{donor_id}.h5ad')\n",
    "donor_id = 'donor_1'\n",
    "adata1 = anndata.read_h5ad(f'output/scATAC/adata_{donor_id}.h5ad')\n",
    "donor_id = 'donor_2'\n",
    "adata2 = anndata.read_h5ad(f'output/scATAC/adata_{donor_id}.h5ad')"
   ]
  },
  {
   "cell_type": "code",
   "execution_count": null,
   "id": "774a28c3",
   "metadata": {},
   "outputs": [],
   "source": []
  },
  {
   "cell_type": "code",
   "execution_count": null,
   "id": "504b9907",
   "metadata": {},
   "outputs": [],
   "source": []
  },
  {
   "cell_type": "code",
   "execution_count": null,
   "id": "3e196c79",
   "metadata": {},
   "outputs": [],
   "source": []
  },
  {
   "cell_type": "code",
   "execution_count": null,
   "id": "52e6f956",
   "metadata": {},
   "outputs": [],
   "source": []
  },
  {
   "cell_type": "code",
   "execution_count": 6,
   "id": "00b02009-c7f1-4b2a-aabd-125e90ea3fd6",
   "metadata": {},
   "outputs": [],
   "source": [
    "# format adata to have location*obs\n",
    "adata_t = adata.T"
   ]
  },
  {
   "cell_type": "code",
   "execution_count": 7,
   "id": "1a397f20-471a-4633-a6ce-f73f426b9969",
   "metadata": {},
   "outputs": [],
   "source": [
    "donor_id = 'donor_0'\n",
    "obs_ids_donor = multiome_obs_meta[multiome_obs_meta['donor_id']==donor_id]['obs_id'].values \n",
    "df_peaks_donor = df_peaks[df_peaks['obs_id'].isin(obs_ids_donor)].reset_index(drop=True)"
   ]
  },
  {
   "cell_type": "code",
   "execution_count": 8,
   "id": "cc12af56-5c6d-45ac-9530-83a74e1783a6",
   "metadata": {},
   "outputs": [],
   "source": [
    "df_peaks_donor_table = df_peaks_donor.pivot_table(index='location', columns='obs_id', values='count')\n",
    "df_peaks_donor_table.fillna(0, inplace=True)"
   ]
  },
  {
   "cell_type": "code",
   "execution_count": 9,
   "id": "4381d23d-b669-4514-bd83-7cffcde1bdc4",
   "metadata": {},
   "outputs": [
    {
     "data": {
      "text/html": [
       "<div>\n",
       "<style scoped>\n",
       "    .dataframe tbody tr th:only-of-type {\n",
       "        vertical-align: middle;\n",
       "    }\n",
       "\n",
       "    .dataframe tbody tr th {\n",
       "        vertical-align: top;\n",
       "    }\n",
       "\n",
       "    .dataframe thead th {\n",
       "        text-align: right;\n",
       "    }\n",
       "</style>\n",
       "<table border=\"1\" class=\"dataframe\">\n",
       "  <thead>\n",
       "    <tr style=\"text-align: right;\">\n",
       "      <th>obs_id</th>\n",
       "      <th>000225c1151ab841</th>\n",
       "      <th>000d59b5478f28e2</th>\n",
       "      <th>001665a9edd1de1e</th>\n",
       "      <th>001a56e90776d65c</th>\n",
       "      <th>002c7e4941b9d82a</th>\n",
       "      <th>00358e8eea06885a</th>\n",
       "      <th>003bc56fbb29519c</th>\n",
       "      <th>003e697dc57895ff</th>\n",
       "      <th>003f13341431b074</th>\n",
       "      <th>0048c94907db1582</th>\n",
       "      <th>...</th>\n",
       "      <th>ffb76fe0129bf3ab</th>\n",
       "      <th>ffbcc08dd984b0cb</th>\n",
       "      <th>ffd2ab84772353a4</th>\n",
       "      <th>ffd441e8b219045b</th>\n",
       "      <th>ffd706b195c2b6eb</th>\n",
       "      <th>ffdfa405b43ae103</th>\n",
       "      <th>ffe09fda062347d5</th>\n",
       "      <th>ffeaba3a3b510da3</th>\n",
       "      <th>fff2ca1f64c10339</th>\n",
       "      <th>fff87e64f509b570</th>\n",
       "    </tr>\n",
       "    <tr>\n",
       "      <th>location</th>\n",
       "      <th></th>\n",
       "      <th></th>\n",
       "      <th></th>\n",
       "      <th></th>\n",
       "      <th></th>\n",
       "      <th></th>\n",
       "      <th></th>\n",
       "      <th></th>\n",
       "      <th></th>\n",
       "      <th></th>\n",
       "      <th></th>\n",
       "      <th></th>\n",
       "      <th></th>\n",
       "      <th></th>\n",
       "      <th></th>\n",
       "      <th></th>\n",
       "      <th></th>\n",
       "      <th></th>\n",
       "      <th></th>\n",
       "      <th></th>\n",
       "      <th></th>\n",
       "    </tr>\n",
       "  </thead>\n",
       "  <tbody>\n",
       "    <tr>\n",
       "      <th>GL000194.1:100992-101876</th>\n",
       "      <td>0.0</td>\n",
       "      <td>0.0</td>\n",
       "      <td>0.0</td>\n",
       "      <td>0.0</td>\n",
       "      <td>0.0</td>\n",
       "      <td>0.0</td>\n",
       "      <td>0.0</td>\n",
       "      <td>0.0</td>\n",
       "      <td>0.0</td>\n",
       "      <td>0.0</td>\n",
       "      <td>...</td>\n",
       "      <td>0.0</td>\n",
       "      <td>0.0</td>\n",
       "      <td>0.0</td>\n",
       "      <td>0.0</td>\n",
       "      <td>0.0</td>\n",
       "      <td>0.0</td>\n",
       "      <td>0.0</td>\n",
       "      <td>0.0</td>\n",
       "      <td>0.0</td>\n",
       "      <td>0.0</td>\n",
       "    </tr>\n",
       "    <tr>\n",
       "      <th>GL000194.1:104344-105163</th>\n",
       "      <td>0.0</td>\n",
       "      <td>0.0</td>\n",
       "      <td>0.0</td>\n",
       "      <td>0.0</td>\n",
       "      <td>0.0</td>\n",
       "      <td>0.0</td>\n",
       "      <td>0.0</td>\n",
       "      <td>0.0</td>\n",
       "      <td>0.0</td>\n",
       "      <td>0.0</td>\n",
       "      <td>...</td>\n",
       "      <td>0.0</td>\n",
       "      <td>0.0</td>\n",
       "      <td>0.0</td>\n",
       "      <td>0.0</td>\n",
       "      <td>0.0</td>\n",
       "      <td>0.0</td>\n",
       "      <td>0.0</td>\n",
       "      <td>0.0</td>\n",
       "      <td>0.0</td>\n",
       "      <td>0.0</td>\n",
       "    </tr>\n",
       "    <tr>\n",
       "      <th>GL000194.1:110741-111545</th>\n",
       "      <td>0.0</td>\n",
       "      <td>0.0</td>\n",
       "      <td>0.0</td>\n",
       "      <td>0.0</td>\n",
       "      <td>0.0</td>\n",
       "      <td>0.0</td>\n",
       "      <td>0.0</td>\n",
       "      <td>0.0</td>\n",
       "      <td>0.0</td>\n",
       "      <td>0.0</td>\n",
       "      <td>...</td>\n",
       "      <td>0.0</td>\n",
       "      <td>0.0</td>\n",
       "      <td>0.0</td>\n",
       "      <td>0.0</td>\n",
       "      <td>0.0</td>\n",
       "      <td>0.0</td>\n",
       "      <td>0.0</td>\n",
       "      <td>0.0</td>\n",
       "      <td>0.0</td>\n",
       "      <td>0.0</td>\n",
       "    </tr>\n",
       "    <tr>\n",
       "      <th>GL000194.1:114513-115368</th>\n",
       "      <td>0.0</td>\n",
       "      <td>0.0</td>\n",
       "      <td>0.0</td>\n",
       "      <td>0.0</td>\n",
       "      <td>0.0</td>\n",
       "      <td>0.0</td>\n",
       "      <td>0.0</td>\n",
       "      <td>0.0</td>\n",
       "      <td>0.0</td>\n",
       "      <td>0.0</td>\n",
       "      <td>...</td>\n",
       "      <td>0.0</td>\n",
       "      <td>0.0</td>\n",
       "      <td>0.0</td>\n",
       "      <td>0.0</td>\n",
       "      <td>0.0</td>\n",
       "      <td>0.0</td>\n",
       "      <td>0.0</td>\n",
       "      <td>0.0</td>\n",
       "      <td>0.0</td>\n",
       "      <td>0.0</td>\n",
       "    </tr>\n",
       "    <tr>\n",
       "      <th>GL000194.1:55749-56580</th>\n",
       "      <td>0.0</td>\n",
       "      <td>0.0</td>\n",
       "      <td>0.0</td>\n",
       "      <td>0.0</td>\n",
       "      <td>0.0</td>\n",
       "      <td>0.0</td>\n",
       "      <td>0.0</td>\n",
       "      <td>0.0</td>\n",
       "      <td>0.0</td>\n",
       "      <td>0.0</td>\n",
       "      <td>...</td>\n",
       "      <td>0.0</td>\n",
       "      <td>0.0</td>\n",
       "      <td>0.0</td>\n",
       "      <td>0.0</td>\n",
       "      <td>0.0</td>\n",
       "      <td>0.0</td>\n",
       "      <td>0.0</td>\n",
       "      <td>0.0</td>\n",
       "      <td>0.0</td>\n",
       "      <td>0.0</td>\n",
       "    </tr>\n",
       "    <tr>\n",
       "      <th>...</th>\n",
       "      <td>...</td>\n",
       "      <td>...</td>\n",
       "      <td>...</td>\n",
       "      <td>...</td>\n",
       "      <td>...</td>\n",
       "      <td>...</td>\n",
       "      <td>...</td>\n",
       "      <td>...</td>\n",
       "      <td>...</td>\n",
       "      <td>...</td>\n",
       "      <td>...</td>\n",
       "      <td>...</td>\n",
       "      <td>...</td>\n",
       "      <td>...</td>\n",
       "      <td>...</td>\n",
       "      <td>...</td>\n",
       "      <td>...</td>\n",
       "      <td>...</td>\n",
       "      <td>...</td>\n",
       "      <td>...</td>\n",
       "      <td>...</td>\n",
       "    </tr>\n",
       "    <tr>\n",
       "      <th>chrY:20763643-20764550</th>\n",
       "      <td>0.0</td>\n",
       "      <td>0.0</td>\n",
       "      <td>0.0</td>\n",
       "      <td>0.0</td>\n",
       "      <td>0.0</td>\n",
       "      <td>0.0</td>\n",
       "      <td>0.0</td>\n",
       "      <td>0.0</td>\n",
       "      <td>0.0</td>\n",
       "      <td>0.0</td>\n",
       "      <td>...</td>\n",
       "      <td>0.0</td>\n",
       "      <td>0.0</td>\n",
       "      <td>0.0</td>\n",
       "      <td>0.0</td>\n",
       "      <td>0.0</td>\n",
       "      <td>0.0</td>\n",
       "      <td>0.0</td>\n",
       "      <td>0.0</td>\n",
       "      <td>0.0</td>\n",
       "      <td>0.0</td>\n",
       "    </tr>\n",
       "    <tr>\n",
       "      <th>chrY:56829190-56830052</th>\n",
       "      <td>0.0</td>\n",
       "      <td>0.0</td>\n",
       "      <td>0.0</td>\n",
       "      <td>0.0</td>\n",
       "      <td>0.0</td>\n",
       "      <td>0.0</td>\n",
       "      <td>0.0</td>\n",
       "      <td>0.0</td>\n",
       "      <td>0.0</td>\n",
       "      <td>0.0</td>\n",
       "      <td>...</td>\n",
       "      <td>0.0</td>\n",
       "      <td>0.0</td>\n",
       "      <td>0.0</td>\n",
       "      <td>0.0</td>\n",
       "      <td>0.0</td>\n",
       "      <td>0.0</td>\n",
       "      <td>0.0</td>\n",
       "      <td>0.0</td>\n",
       "      <td>0.0</td>\n",
       "      <td>0.0</td>\n",
       "    </tr>\n",
       "    <tr>\n",
       "      <th>chrY:56836451-56837336</th>\n",
       "      <td>0.0</td>\n",
       "      <td>0.0</td>\n",
       "      <td>0.0</td>\n",
       "      <td>0.0</td>\n",
       "      <td>0.0</td>\n",
       "      <td>0.0</td>\n",
       "      <td>0.0</td>\n",
       "      <td>0.0</td>\n",
       "      <td>0.0</td>\n",
       "      <td>0.0</td>\n",
       "      <td>...</td>\n",
       "      <td>0.0</td>\n",
       "      <td>0.0</td>\n",
       "      <td>0.0</td>\n",
       "      <td>0.0</td>\n",
       "      <td>0.0</td>\n",
       "      <td>0.0</td>\n",
       "      <td>0.0</td>\n",
       "      <td>0.0</td>\n",
       "      <td>0.0</td>\n",
       "      <td>0.0</td>\n",
       "    </tr>\n",
       "    <tr>\n",
       "      <th>chrY:56850568-56851453</th>\n",
       "      <td>0.0</td>\n",
       "      <td>0.0</td>\n",
       "      <td>0.0</td>\n",
       "      <td>0.0</td>\n",
       "      <td>0.0</td>\n",
       "      <td>0.0</td>\n",
       "      <td>0.0</td>\n",
       "      <td>0.0</td>\n",
       "      <td>0.0</td>\n",
       "      <td>0.0</td>\n",
       "      <td>...</td>\n",
       "      <td>0.0</td>\n",
       "      <td>0.0</td>\n",
       "      <td>0.0</td>\n",
       "      <td>0.0</td>\n",
       "      <td>0.0</td>\n",
       "      <td>0.0</td>\n",
       "      <td>0.0</td>\n",
       "      <td>0.0</td>\n",
       "      <td>0.0</td>\n",
       "      <td>0.0</td>\n",
       "    </tr>\n",
       "    <tr>\n",
       "      <th>chrY:56855369-56856121</th>\n",
       "      <td>0.0</td>\n",
       "      <td>0.0</td>\n",
       "      <td>0.0</td>\n",
       "      <td>0.0</td>\n",
       "      <td>0.0</td>\n",
       "      <td>0.0</td>\n",
       "      <td>0.0</td>\n",
       "      <td>0.0</td>\n",
       "      <td>0.0</td>\n",
       "      <td>0.0</td>\n",
       "      <td>...</td>\n",
       "      <td>0.0</td>\n",
       "      <td>0.0</td>\n",
       "      <td>0.0</td>\n",
       "      <td>0.0</td>\n",
       "      <td>0.0</td>\n",
       "      <td>0.0</td>\n",
       "      <td>0.0</td>\n",
       "      <td>0.0</td>\n",
       "      <td>0.0</td>\n",
       "      <td>0.0</td>\n",
       "    </tr>\n",
       "  </tbody>\n",
       "</table>\n",
       "<p>135239 rows × 7830 columns</p>\n",
       "</div>"
      ],
      "text/plain": [
       "obs_id                    000225c1151ab841  000d59b5478f28e2  \\\n",
       "location                                                       \n",
       "GL000194.1:100992-101876               0.0               0.0   \n",
       "GL000194.1:104344-105163               0.0               0.0   \n",
       "GL000194.1:110741-111545               0.0               0.0   \n",
       "GL000194.1:114513-115368               0.0               0.0   \n",
       "GL000194.1:55749-56580                 0.0               0.0   \n",
       "...                                    ...               ...   \n",
       "chrY:20763643-20764550                 0.0               0.0   \n",
       "chrY:56829190-56830052                 0.0               0.0   \n",
       "chrY:56836451-56837336                 0.0               0.0   \n",
       "chrY:56850568-56851453                 0.0               0.0   \n",
       "chrY:56855369-56856121                 0.0               0.0   \n",
       "\n",
       "obs_id                    001665a9edd1de1e  001a56e90776d65c  \\\n",
       "location                                                       \n",
       "GL000194.1:100992-101876               0.0               0.0   \n",
       "GL000194.1:104344-105163               0.0               0.0   \n",
       "GL000194.1:110741-111545               0.0               0.0   \n",
       "GL000194.1:114513-115368               0.0               0.0   \n",
       "GL000194.1:55749-56580                 0.0               0.0   \n",
       "...                                    ...               ...   \n",
       "chrY:20763643-20764550                 0.0               0.0   \n",
       "chrY:56829190-56830052                 0.0               0.0   \n",
       "chrY:56836451-56837336                 0.0               0.0   \n",
       "chrY:56850568-56851453                 0.0               0.0   \n",
       "chrY:56855369-56856121                 0.0               0.0   \n",
       "\n",
       "obs_id                    002c7e4941b9d82a  00358e8eea06885a  \\\n",
       "location                                                       \n",
       "GL000194.1:100992-101876               0.0               0.0   \n",
       "GL000194.1:104344-105163               0.0               0.0   \n",
       "GL000194.1:110741-111545               0.0               0.0   \n",
       "GL000194.1:114513-115368               0.0               0.0   \n",
       "GL000194.1:55749-56580                 0.0               0.0   \n",
       "...                                    ...               ...   \n",
       "chrY:20763643-20764550                 0.0               0.0   \n",
       "chrY:56829190-56830052                 0.0               0.0   \n",
       "chrY:56836451-56837336                 0.0               0.0   \n",
       "chrY:56850568-56851453                 0.0               0.0   \n",
       "chrY:56855369-56856121                 0.0               0.0   \n",
       "\n",
       "obs_id                    003bc56fbb29519c  003e697dc57895ff  \\\n",
       "location                                                       \n",
       "GL000194.1:100992-101876               0.0               0.0   \n",
       "GL000194.1:104344-105163               0.0               0.0   \n",
       "GL000194.1:110741-111545               0.0               0.0   \n",
       "GL000194.1:114513-115368               0.0               0.0   \n",
       "GL000194.1:55749-56580                 0.0               0.0   \n",
       "...                                    ...               ...   \n",
       "chrY:20763643-20764550                 0.0               0.0   \n",
       "chrY:56829190-56830052                 0.0               0.0   \n",
       "chrY:56836451-56837336                 0.0               0.0   \n",
       "chrY:56850568-56851453                 0.0               0.0   \n",
       "chrY:56855369-56856121                 0.0               0.0   \n",
       "\n",
       "obs_id                    003f13341431b074  0048c94907db1582  ...  \\\n",
       "location                                                      ...   \n",
       "GL000194.1:100992-101876               0.0               0.0  ...   \n",
       "GL000194.1:104344-105163               0.0               0.0  ...   \n",
       "GL000194.1:110741-111545               0.0               0.0  ...   \n",
       "GL000194.1:114513-115368               0.0               0.0  ...   \n",
       "GL000194.1:55749-56580                 0.0               0.0  ...   \n",
       "...                                    ...               ...  ...   \n",
       "chrY:20763643-20764550                 0.0               0.0  ...   \n",
       "chrY:56829190-56830052                 0.0               0.0  ...   \n",
       "chrY:56836451-56837336                 0.0               0.0  ...   \n",
       "chrY:56850568-56851453                 0.0               0.0  ...   \n",
       "chrY:56855369-56856121                 0.0               0.0  ...   \n",
       "\n",
       "obs_id                    ffb76fe0129bf3ab  ffbcc08dd984b0cb  \\\n",
       "location                                                       \n",
       "GL000194.1:100992-101876               0.0               0.0   \n",
       "GL000194.1:104344-105163               0.0               0.0   \n",
       "GL000194.1:110741-111545               0.0               0.0   \n",
       "GL000194.1:114513-115368               0.0               0.0   \n",
       "GL000194.1:55749-56580                 0.0               0.0   \n",
       "...                                    ...               ...   \n",
       "chrY:20763643-20764550                 0.0               0.0   \n",
       "chrY:56829190-56830052                 0.0               0.0   \n",
       "chrY:56836451-56837336                 0.0               0.0   \n",
       "chrY:56850568-56851453                 0.0               0.0   \n",
       "chrY:56855369-56856121                 0.0               0.0   \n",
       "\n",
       "obs_id                    ffd2ab84772353a4  ffd441e8b219045b  \\\n",
       "location                                                       \n",
       "GL000194.1:100992-101876               0.0               0.0   \n",
       "GL000194.1:104344-105163               0.0               0.0   \n",
       "GL000194.1:110741-111545               0.0               0.0   \n",
       "GL000194.1:114513-115368               0.0               0.0   \n",
       "GL000194.1:55749-56580                 0.0               0.0   \n",
       "...                                    ...               ...   \n",
       "chrY:20763643-20764550                 0.0               0.0   \n",
       "chrY:56829190-56830052                 0.0               0.0   \n",
       "chrY:56836451-56837336                 0.0               0.0   \n",
       "chrY:56850568-56851453                 0.0               0.0   \n",
       "chrY:56855369-56856121                 0.0               0.0   \n",
       "\n",
       "obs_id                    ffd706b195c2b6eb  ffdfa405b43ae103  \\\n",
       "location                                                       \n",
       "GL000194.1:100992-101876               0.0               0.0   \n",
       "GL000194.1:104344-105163               0.0               0.0   \n",
       "GL000194.1:110741-111545               0.0               0.0   \n",
       "GL000194.1:114513-115368               0.0               0.0   \n",
       "GL000194.1:55749-56580                 0.0               0.0   \n",
       "...                                    ...               ...   \n",
       "chrY:20763643-20764550                 0.0               0.0   \n",
       "chrY:56829190-56830052                 0.0               0.0   \n",
       "chrY:56836451-56837336                 0.0               0.0   \n",
       "chrY:56850568-56851453                 0.0               0.0   \n",
       "chrY:56855369-56856121                 0.0               0.0   \n",
       "\n",
       "obs_id                    ffe09fda062347d5  ffeaba3a3b510da3  \\\n",
       "location                                                       \n",
       "GL000194.1:100992-101876               0.0               0.0   \n",
       "GL000194.1:104344-105163               0.0               0.0   \n",
       "GL000194.1:110741-111545               0.0               0.0   \n",
       "GL000194.1:114513-115368               0.0               0.0   \n",
       "GL000194.1:55749-56580                 0.0               0.0   \n",
       "...                                    ...               ...   \n",
       "chrY:20763643-20764550                 0.0               0.0   \n",
       "chrY:56829190-56830052                 0.0               0.0   \n",
       "chrY:56836451-56837336                 0.0               0.0   \n",
       "chrY:56850568-56851453                 0.0               0.0   \n",
       "chrY:56855369-56856121                 0.0               0.0   \n",
       "\n",
       "obs_id                    fff2ca1f64c10339  fff87e64f509b570  \n",
       "location                                                      \n",
       "GL000194.1:100992-101876               0.0               0.0  \n",
       "GL000194.1:104344-105163               0.0               0.0  \n",
       "GL000194.1:110741-111545               0.0               0.0  \n",
       "GL000194.1:114513-115368               0.0               0.0  \n",
       "GL000194.1:55749-56580                 0.0               0.0  \n",
       "...                                    ...               ...  \n",
       "chrY:20763643-20764550                 0.0               0.0  \n",
       "chrY:56829190-56830052                 0.0               0.0  \n",
       "chrY:56836451-56837336                 0.0               0.0  \n",
       "chrY:56850568-56851453                 0.0               0.0  \n",
       "chrY:56855369-56856121                 0.0               0.0  \n",
       "\n",
       "[135239 rows x 7830 columns]"
      ]
     },
     "execution_count": 9,
     "metadata": {},
     "output_type": "execute_result"
    }
   ],
   "source": [
    "df_peaks_donor_table"
   ]
  },
  {
   "cell_type": "markdown",
   "id": "d55b79e4",
   "metadata": {},
   "source": [
    "### Create cistopic_obj"
   ]
  },
  {
   "cell_type": "markdown",
   "id": "850c38d8",
   "metadata": {},
   "source": [
    "Download blacklist from INTERNET\n",
    "# BUSCAR"
   ]
  },
  {
   "cell_type": "code",
   "execution_count": 11,
   "id": "e96cadf4-389a-4210-bb7e-ea7e4e0b7856",
   "metadata": {},
   "outputs": [
    {
     "name": "stdout",
     "output_type": "stream",
     "text": [
      "2023-11-20 16:13:24,985 cisTopic     INFO     Converting fragment matrix to sparse matrix\n",
      "2023-11-20 16:13:39,711 cisTopic     INFO     Removing blacklisted regions\n",
      "2023-11-20 16:13:40,229 cisTopic     INFO     Creating CistopicObject\n",
      "2023-11-20 16:13:41,258 cisTopic     INFO     Done!\n"
     ]
    }
   ],
   "source": [
    "from pycisTopic.cistopic_class import *\n",
    "path_to_blacklist='/home/roger/Github/OpenProblems/Conda/pycisTopic/hg38-blacklist.v2.bed'"
   ]
  },
  {
   "cell_type": "code",
   "execution_count": 13,
   "id": "01f0cd90-f517-46fa-80b3-baf7f900ce33",
   "metadata": {},
   "outputs": [
    {
     "name": "stdout",
     "output_type": "stream",
     "text": [
      "2023-11-20 16:13:41,291 cisTopic     INFO     Converting fragment matrix to sparse matrix\n",
      "2023-11-20 16:13:54,784 cisTopic     INFO     Removing blacklisted regions\n",
      "2023-11-20 16:13:55,277 cisTopic     INFO     Creating CistopicObject\n",
      "2023-11-20 16:13:56,406 cisTopic     INFO     Done!\n"
     ]
    }
   ],
   "source": [
    "from pycisTopic.cistopic_class import create_cistopic_object\n",
    "cistopic_obj = create_cistopic_object(\n",
    "                            fragment_matrix=df_peaks_donor_table,\n",
    "                            cell_names = adata_t.var.index,\n",
    "                            region_names = adata_t.obs.index,\n",
    "                            path_to_blacklist=path_to_blacklist,\n",
    "                            project=donor_id,\n",
    "                            split_pattern='-')\n",
    "cistopic_obj.add_cell_data(adata_t.var, split_pattern='-')"
   ]
  },
  {
   "cell_type": "code",
   "execution_count": 14,
   "id": "e5984a55-c291-4c93-ac3f-173ab86758ff",
   "metadata": {},
   "outputs": [
    {
     "name": "stdout",
     "output_type": "stream",
     "text": [
      "CistopicObject from project donor_0 with n_cells × n_regions = 7830 × 134203\n"
     ]
    }
   ],
   "source": [
    "print(cistopic_obj)"
   ]
  },
  {
   "cell_type": "markdown",
   "id": "8c2c4027",
   "metadata": {},
   "source": [
    "### Look for the Topics"
   ]
  },
  {
   "cell_type": "code",
   "execution_count": 28,
   "id": "2b0d8324-4795-4f64-9c81-aaa17d1a0c6e",
   "metadata": {},
   "outputs": [
    {
     "name": "stderr",
     "output_type": "stream",
     "text": [
      "2023-11-20 16:21:46,309\tINFO worker.py:1664 -- Started a local Ray instance. View the dashboard at \u001b[1m\u001b[32m127.0.0.1:8265 \u001b[39m\u001b[22m\n"
     ]
    },
    {
     "name": "stdout",
     "output_type": "stream",
     "text": [
      "\u001b[36m(run_cgs_model pid=620936)\u001b[0m 2023-11-20 16:21:47,693 cisTopic     INFO     Running model with 2 topics\n",
      "\u001b[36m(run_cgs_model pid=620936)\u001b[0m 2023-11-20 16:32:35,201 cisTopic     INFO     Model with 2 topics done!\n",
      "\u001b[36m(run_cgs_model pid=620937)\u001b[0m 2023-11-20 16:21:47,800 cisTopic     INFO     Running model with 5 topics\n",
      "\u001b[36m(run_cgs_model pid=620936)\u001b[0m 2023-11-20 16:32:35,230 cisTopic     INFO     Running model with 10 topics\n",
      "\u001b[36m(run_cgs_model pid=620937)\u001b[0m 2023-11-20 16:44:24,237 cisTopic     INFO     Model with 5 topics done!\n",
      "\u001b[36m(run_cgs_model pid=620937)\u001b[0m 2023-11-20 16:44:24,267 cisTopic     INFO     Running model with 30 topics\n",
      "\u001b[36m(run_cgs_model pid=620936)\u001b[0m 2023-11-20 17:12:02,001 cisTopic     INFO     Model with 10 topics done!\n",
      "\u001b[36m(run_cgs_model pid=620936)\u001b[0m 2023-11-20 17:12:02,034 cisTopic     INFO     Running model with 50 topics\n",
      "\u001b[36m(run_cgs_model pid=620937)\u001b[0m 2023-11-20 18:26:20,882 cisTopic     INFO     Model with 30 topics done!\n",
      "\u001b[36m(run_cgs_model pid=620937)\u001b[0m 2023-11-20 18:26:20,918 cisTopic     INFO     Running model with 70 topics\n",
      "\u001b[36m(run_cgs_model pid=620936)\u001b[0m 2023-11-20 20:03:28,120 cisTopic     INFO     Model with 50 topics done!\n",
      "\u001b[36m(run_cgs_model pid=620937)\u001b[0m 2023-11-20 22:38:48,181 cisTopic     INFO     Model with 70 topics done!\n"
     ]
    }
   ],
   "source": [
    "from pycisTopic.cistopic_class import *\n",
    "tmp_dir = '/home/roger/tmpdir'\n",
    "models=run_cgs_models(cistopic_obj,\n",
    "                    n_topics=[2,5,10,30,50,70],\n",
    "                    n_cpu=2,\n",
    "                    n_iter=500,\n",
    "                    random_state=555,\n",
    "                    alpha=50,\n",
    "                    alpha_by_topic=True,\n",
    "                    eta=0.1,\n",
    "                    eta_by_topic=False,\n",
    "                    save_path=None,\n",
    "                    _temp_dir = os.path.join(tmp_dir + 'ray_spill'))"
   ]
  },
  {
   "cell_type": "markdown",
   "id": "c35f60fa",
   "metadata": {},
   "source": [
    "### Save models with different topics"
   ]
  },
  {
   "cell_type": "code",
   "execution_count": 29,
   "id": "96388610-e998-477c-acec-933d7665f2d1",
   "metadata": {},
   "outputs": [],
   "source": [
    "if not os.path.exists(os.path.join(work_dir, 'scATAC/models')):\n",
    "    os.makedirs(os.path.join(work_dir, 'scATAC/models'))\n",
    "\n",
    "pickle.dump(models,\n",
    "            open(os.path.join(work_dir, 'scATAC/models/10x_pbmc_models_500_iter_LDA.pkl'), 'wb'))"
   ]
  },
  {
   "cell_type": "markdown",
   "id": "05692539",
   "metadata": {},
   "source": [
    "Evaluate the models"
   ]
  },
  {
   "cell_type": "code",
   "execution_count": 31,
   "id": "c7fa17f6-8350-4293-bdb2-07f1de395eb9",
   "metadata": {},
   "outputs": [
    {
     "data": {
      "image/png": "[encoded data removed]",
      "text/plain": [
       "<Figure size 640x480 with 1 Axes>"
      ]
     },
     "metadata": {},
     "output_type": "display_data"
    }
   ],
   "source": [
    "from pycisTopic.lda_models import *\n",
    "model = evaluate_models(models,\n",
    "                       select_model=30,\n",
    "                       return_model=True,\n",
    "                       metrics=['Arun_2010','Cao_Juan_2009', 'Minmo_2011', 'loglikelihood'],\n",
    "                       plot_metrics=False)"
   ]
  },
  {
   "cell_type": "markdown",
   "id": "84fa51f4",
   "metadata": {},
   "source": [
    "We can conclude that the optimal number of topics is 30\n",
    "\n",
    "Add the best model to the cistopic_obj and then we save it"
   ]
  },
  {
   "cell_type": "code",
   "execution_count": 32,
   "id": "28b22e41-e24b-480b-8813-2d14aa6fb9d1",
   "metadata": {},
   "outputs": [],
   "source": [
    "cistopic_obj.add_LDA_model(model)\n",
    "pickle.dump(cistopic_obj,\n",
    "            open(os.path.join(work_dir, 'scATAC/cistopic_obj.pkl'), 'wb'))"
   ]
  },
  {
   "cell_type": "markdown",
   "id": "e0a66e59",
   "metadata": {},
   "source": [
    "We verify that it is well saved"
   ]
  },
  {
   "cell_type": "code",
   "execution_count": 33,
   "id": "7d1d87c8-4289-494b-9fd9-e9e0236a8127",
   "metadata": {},
   "outputs": [],
   "source": [
    "cistopic_obj = pickle.load(open(os.path.join(work_dir, 'scATAC/cistopic_obj.pkl'), 'rb'))"
   ]
  },
  {
   "cell_type": "markdown",
   "id": "a56f1f10",
   "metadata": {},
   "source": [
    "Run UMAP and plot different interesting things"
   ]
  },
  {
   "cell_type": "code",
   "execution_count": 52,
   "id": "a68672a9-e5ac-4f0b-ac48-57c63cb30144",
   "metadata": {},
   "outputs": [
    {
     "name": "stdout",
     "output_type": "stream",
     "text": [
      "2023-11-21 09:15:16,758 cisTopic     INFO     Running UMAP\n"
     ]
    },
    {
     "name": "stderr",
     "output_type": "stream",
     "text": [
      "/home/roger/anaconda3/envs/myenv/lib/python3.9/site-packages/umap/umap_.py:1943: UserWarning: n_jobs value -1 overridden to 1 by setting random_state. Use no seed for parallelism.\n",
      "  warn(f\"n_jobs value {self.n_jobs} overridden to 1 by setting random_state. Use no seed for parallelism.\")\n"
     ]
    },
    {
     "ename": "TypingError",
     "evalue": "Failed in nopython mode pipeline (step: nopython frontend)\n\u001b[1m\u001b[1m\u001b[1m\u001b[1mFailed in nopython mode pipeline (step: nopython frontend)\n\u001b[1mUntyped global name 'print':\u001b[0m \u001b[1m\u001b[1mCannot determine Numba type of <class 'function'>\u001b[0m\n\u001b[1m\nFile \"../../../../anaconda3/envs/myenv/lib/python3.9/site-packages/pynndescent/pynndescent_.py\", line 252:\u001b[0m\n\u001b[1mdef nn_descent_internal_low_memory_parallel(\n    <source elided>\n        if verbose:\n\u001b[1m            print(\"\\t\", n + 1, \" / \", n_iters)\n\u001b[0m            \u001b[1m^\u001b[0m\u001b[0m\n\u001b[0m\n\u001b[0m\u001b[1mDuring: resolving callee type: type(CPUDispatcher(<function nn_descent_internal_low_memory_parallel at 0x7fb9e26488b0>))\u001b[0m\n\u001b[0m\u001b[1mDuring: typing of call at /home/roger/anaconda3/envs/myenv/lib/python3.9/site-packages/pynndescent/pynndescent_.py (358)\n\u001b[0m\n\u001b[0m\u001b[1mDuring: resolving callee type: type(CPUDispatcher(<function nn_descent_internal_low_memory_parallel at 0x7fb9e26488b0>))\u001b[0m\n\u001b[0m\u001b[1mDuring: typing of call at /home/roger/anaconda3/envs/myenv/lib/python3.9/site-packages/pynndescent/pynndescent_.py (358)\n\u001b[0m\n\u001b[1m\nFile \"../../../../anaconda3/envs/myenv/lib/python3.9/site-packages/pynndescent/pynndescent_.py\", line 358:\u001b[0m\n\u001b[1mdef nn_descent(\n    <source elided>\n    if low_memory:\n\u001b[1m        nn_descent_internal_low_memory_parallel(\n\u001b[0m        \u001b[1m^\u001b[0m\u001b[0m\n",
     "output_type": "error",
     "traceback": [
      "\u001b[0;31m---------------------------------------------------------------------------\u001b[0m",
      "\u001b[0;31mTypingError\u001b[0m                               Traceback (most recent call last)",
      "Cell \u001b[0;32mIn[52], line 1\u001b[0m\n\u001b[0;32m----> 1\u001b[0m \u001b[43mrun_umap\u001b[49m\u001b[43m(\u001b[49m\u001b[43mcistopic_obj\u001b[49m\u001b[43m)\u001b[49m  \u001b[38;5;66;03m#scale=True) #target  = 'cell',\u001b[39;00m\n",
      "File \u001b[0;32m~/Github/OpenProblems/Conda/pycisTopic/pycisTopic/clust_vis.py:241\u001b[0m, in \u001b[0;36mrun_umap\u001b[0;34m(cistopic_obj, target, scale, reduction_name, random_state, selected_topics, selected_features, harmony, rna_components, rna_weight, **kwargs)\u001b[0m\n\u001b[1;32m    239\u001b[0m \u001b[38;5;28;01mif\u001b[39;00m rna_components \u001b[38;5;129;01mis\u001b[39;00m \u001b[38;5;28;01mNone\u001b[39;00m:\n\u001b[1;32m    240\u001b[0m     reducer \u001b[38;5;241m=\u001b[39m umap\u001b[38;5;241m.\u001b[39mUMAP(random_state\u001b[38;5;241m=\u001b[39mrandom_state, \u001b[38;5;241m*\u001b[39m\u001b[38;5;241m*\u001b[39mkwargs)\n\u001b[0;32m--> 241\u001b[0m     embedding \u001b[38;5;241m=\u001b[39m \u001b[43mreducer\u001b[49m\u001b[38;5;241;43m.\u001b[39;49m\u001b[43mfit_transform\u001b[49m\u001b[43m(\u001b[49m\u001b[43mdata_mat\u001b[49m\u001b[43m)\u001b[49m\n\u001b[1;32m    242\u001b[0m \u001b[38;5;28;01melse\u001b[39;00m:\n\u001b[1;32m    243\u001b[0m     atac_topics, rna_components, data_names \u001b[38;5;241m=\u001b[39m input_check(data_mat, rna_components)\n",
      "File \u001b[0;32m~/anaconda3/envs/myenv/lib/python3.9/site-packages/umap/umap_.py:2887\u001b[0m, in \u001b[0;36mUMAP.fit_transform\u001b[0;34m(self, X, y, force_all_finite)\u001b[0m\n\u001b[1;32m   2851\u001b[0m \u001b[38;5;28;01mdef\u001b[39;00m \u001b[38;5;21mfit_transform\u001b[39m(\u001b[38;5;28mself\u001b[39m, X, y\u001b[38;5;241m=\u001b[39m\u001b[38;5;28;01mNone\u001b[39;00m, force_all_finite\u001b[38;5;241m=\u001b[39m\u001b[38;5;28;01mTrue\u001b[39;00m):\n\u001b[1;32m   2852\u001b[0m \u001b[38;5;250m    \u001b[39m\u001b[38;5;124;03m\"\"\"Fit X into an embedded space and return that transformed\u001b[39;00m\n\u001b[1;32m   2853\u001b[0m \u001b[38;5;124;03m    output.\u001b[39;00m\n\u001b[1;32m   2854\u001b[0m \n\u001b[0;32m   (...)\u001b[0m\n\u001b[1;32m   2885\u001b[0m \u001b[38;5;124;03m        Local radii of data points in the embedding (log-transformed).\u001b[39;00m\n\u001b[1;32m   2886\u001b[0m \u001b[38;5;124;03m    \"\"\"\u001b[39;00m\n\u001b[0;32m-> 2887\u001b[0m     \u001b[38;5;28;43mself\u001b[39;49m\u001b[38;5;241;43m.\u001b[39;49m\u001b[43mfit\u001b[49m\u001b[43m(\u001b[49m\u001b[43mX\u001b[49m\u001b[43m,\u001b[49m\u001b[43m \u001b[49m\u001b[43my\u001b[49m\u001b[43m,\u001b[49m\u001b[43m \u001b[49m\u001b[43mforce_all_finite\u001b[49m\u001b[43m)\u001b[49m\n\u001b[1;32m   2888\u001b[0m     \u001b[38;5;28;01mif\u001b[39;00m \u001b[38;5;28mself\u001b[39m\u001b[38;5;241m.\u001b[39mtransform_mode \u001b[38;5;241m==\u001b[39m \u001b[38;5;124m\"\u001b[39m\u001b[38;5;124membedding\u001b[39m\u001b[38;5;124m\"\u001b[39m:\n\u001b[1;32m   2889\u001b[0m         \u001b[38;5;28;01mif\u001b[39;00m \u001b[38;5;28mself\u001b[39m\u001b[38;5;241m.\u001b[39moutput_dens:\n",
      "File \u001b[0;32m~/anaconda3/envs/myenv/lib/python3.9/site-packages/umap/umap_.py:2608\u001b[0m, in \u001b[0;36mUMAP.fit\u001b[0;34m(self, X, y, force_all_finite)\u001b[0m\n\u001b[1;32m   2602\u001b[0m     nn_metric \u001b[38;5;241m=\u001b[39m \u001b[38;5;28mself\u001b[39m\u001b[38;5;241m.\u001b[39m_input_distance_func\n\u001b[1;32m   2603\u001b[0m \u001b[38;5;28;01mif\u001b[39;00m \u001b[38;5;28mself\u001b[39m\u001b[38;5;241m.\u001b[39mknn_dists \u001b[38;5;129;01mis\u001b[39;00m \u001b[38;5;28;01mNone\u001b[39;00m:\n\u001b[1;32m   2604\u001b[0m     (\n\u001b[1;32m   2605\u001b[0m         \u001b[38;5;28mself\u001b[39m\u001b[38;5;241m.\u001b[39m_knn_indices,\n\u001b[1;32m   2606\u001b[0m         \u001b[38;5;28mself\u001b[39m\u001b[38;5;241m.\u001b[39m_knn_dists,\n\u001b[1;32m   2607\u001b[0m         \u001b[38;5;28mself\u001b[39m\u001b[38;5;241m.\u001b[39m_knn_search_index,\n\u001b[0;32m-> 2608\u001b[0m     ) \u001b[38;5;241m=\u001b[39m \u001b[43mnearest_neighbors\u001b[49m\u001b[43m(\u001b[49m\n\u001b[1;32m   2609\u001b[0m \u001b[43m        \u001b[49m\u001b[43mX\u001b[49m\u001b[43m[\u001b[49m\u001b[43mindex\u001b[49m\u001b[43m]\u001b[49m\u001b[43m,\u001b[49m\n\u001b[1;32m   2610\u001b[0m \u001b[43m        \u001b[49m\u001b[38;5;28;43mself\u001b[39;49m\u001b[38;5;241;43m.\u001b[39;49m\u001b[43m_n_neighbors\u001b[49m\u001b[43m,\u001b[49m\n\u001b[1;32m   2611\u001b[0m \u001b[43m        \u001b[49m\u001b[43mnn_metric\u001b[49m\u001b[43m,\u001b[49m\n\u001b[1;32m   2612\u001b[0m \u001b[43m        \u001b[49m\u001b[38;5;28;43mself\u001b[39;49m\u001b[38;5;241;43m.\u001b[39;49m\u001b[43m_metric_kwds\u001b[49m\u001b[43m,\u001b[49m\n\u001b[1;32m   2613\u001b[0m \u001b[43m        \u001b[49m\u001b[38;5;28;43mself\u001b[39;49m\u001b[38;5;241;43m.\u001b[39;49m\u001b[43mangular_rp_forest\u001b[49m\u001b[43m,\u001b[49m\n\u001b[1;32m   2614\u001b[0m \u001b[43m        \u001b[49m\u001b[43mrandom_state\u001b[49m\u001b[43m,\u001b[49m\n\u001b[1;32m   2615\u001b[0m \u001b[43m        \u001b[49m\u001b[38;5;28;43mself\u001b[39;49m\u001b[38;5;241;43m.\u001b[39;49m\u001b[43mlow_memory\u001b[49m\u001b[43m,\u001b[49m\n\u001b[1;32m   2616\u001b[0m \u001b[43m        \u001b[49m\u001b[43muse_pynndescent\u001b[49m\u001b[38;5;241;43m=\u001b[39;49m\u001b[38;5;28;43;01mTrue\u001b[39;49;00m\u001b[43m,\u001b[49m\n\u001b[1;32m   2617\u001b[0m \u001b[43m        \u001b[49m\u001b[43mn_jobs\u001b[49m\u001b[38;5;241;43m=\u001b[39;49m\u001b[38;5;28;43mself\u001b[39;49m\u001b[38;5;241;43m.\u001b[39;49m\u001b[43mn_jobs\u001b[49m\u001b[43m,\u001b[49m\n\u001b[1;32m   2618\u001b[0m \u001b[43m        \u001b[49m\u001b[43mverbose\u001b[49m\u001b[38;5;241;43m=\u001b[39;49m\u001b[38;5;28;43mself\u001b[39;49m\u001b[38;5;241;43m.\u001b[39;49m\u001b[43mverbose\u001b[49m\u001b[43m,\u001b[49m\n\u001b[1;32m   2619\u001b[0m \u001b[43m    \u001b[49m\u001b[43m)\u001b[49m\n\u001b[1;32m   2620\u001b[0m \u001b[38;5;28;01melse\u001b[39;00m:\n\u001b[1;32m   2621\u001b[0m     \u001b[38;5;28mself\u001b[39m\u001b[38;5;241m.\u001b[39m_knn_indices \u001b[38;5;241m=\u001b[39m \u001b[38;5;28mself\u001b[39m\u001b[38;5;241m.\u001b[39mknn_indices\n",
      "File \u001b[0;32m~/anaconda3/envs/myenv/lib/python3.9/site-packages/umap/umap_.py:329\u001b[0m, in \u001b[0;36mnearest_neighbors\u001b[0;34m(X, n_neighbors, metric, metric_kwds, angular, random_state, low_memory, use_pynndescent, n_jobs, verbose)\u001b[0m\n\u001b[1;32m    326\u001b[0m     n_trees \u001b[38;5;241m=\u001b[39m \u001b[38;5;28mmin\u001b[39m(\u001b[38;5;241m64\u001b[39m, \u001b[38;5;241m5\u001b[39m \u001b[38;5;241m+\u001b[39m \u001b[38;5;28mint\u001b[39m(\u001b[38;5;28mround\u001b[39m((X\u001b[38;5;241m.\u001b[39mshape[\u001b[38;5;241m0\u001b[39m]) \u001b[38;5;241m*\u001b[39m\u001b[38;5;241m*\u001b[39m \u001b[38;5;241m0.5\u001b[39m \u001b[38;5;241m/\u001b[39m \u001b[38;5;241m20.0\u001b[39m)))\n\u001b[1;32m    327\u001b[0m     n_iters \u001b[38;5;241m=\u001b[39m \u001b[38;5;28mmax\u001b[39m(\u001b[38;5;241m5\u001b[39m, \u001b[38;5;28mint\u001b[39m(\u001b[38;5;28mround\u001b[39m(np\u001b[38;5;241m.\u001b[39mlog2(X\u001b[38;5;241m.\u001b[39mshape[\u001b[38;5;241m0\u001b[39m]))))\n\u001b[0;32m--> 329\u001b[0m     knn_search_index \u001b[38;5;241m=\u001b[39m \u001b[43mNNDescent\u001b[49m\u001b[43m(\u001b[49m\n\u001b[1;32m    330\u001b[0m \u001b[43m        \u001b[49m\u001b[43mX\u001b[49m\u001b[43m,\u001b[49m\n\u001b[1;32m    331\u001b[0m \u001b[43m        \u001b[49m\u001b[43mn_neighbors\u001b[49m\u001b[38;5;241;43m=\u001b[39;49m\u001b[43mn_neighbors\u001b[49m\u001b[43m,\u001b[49m\n\u001b[1;32m    332\u001b[0m \u001b[43m        \u001b[49m\u001b[43mmetric\u001b[49m\u001b[38;5;241;43m=\u001b[39;49m\u001b[43mmetric\u001b[49m\u001b[43m,\u001b[49m\n\u001b[1;32m    333\u001b[0m \u001b[43m        \u001b[49m\u001b[43mmetric_kwds\u001b[49m\u001b[38;5;241;43m=\u001b[39;49m\u001b[43mmetric_kwds\u001b[49m\u001b[43m,\u001b[49m\n\u001b[1;32m    334\u001b[0m \u001b[43m        \u001b[49m\u001b[43mrandom_state\u001b[49m\u001b[38;5;241;43m=\u001b[39;49m\u001b[43mrandom_state\u001b[49m\u001b[43m,\u001b[49m\n\u001b[1;32m    335\u001b[0m \u001b[43m        \u001b[49m\u001b[43mn_trees\u001b[49m\u001b[38;5;241;43m=\u001b[39;49m\u001b[43mn_trees\u001b[49m\u001b[43m,\u001b[49m\n\u001b[1;32m    336\u001b[0m \u001b[43m        \u001b[49m\u001b[43mn_iters\u001b[49m\u001b[38;5;241;43m=\u001b[39;49m\u001b[43mn_iters\u001b[49m\u001b[43m,\u001b[49m\n\u001b[1;32m    337\u001b[0m \u001b[43m        \u001b[49m\u001b[43mmax_candidates\u001b[49m\u001b[38;5;241;43m=\u001b[39;49m\u001b[38;5;241;43m60\u001b[39;49m\u001b[43m,\u001b[49m\n\u001b[1;32m    338\u001b[0m \u001b[43m        \u001b[49m\u001b[43mlow_memory\u001b[49m\u001b[38;5;241;43m=\u001b[39;49m\u001b[43mlow_memory\u001b[49m\u001b[43m,\u001b[49m\n\u001b[1;32m    339\u001b[0m \u001b[43m        \u001b[49m\u001b[43mn_jobs\u001b[49m\u001b[38;5;241;43m=\u001b[39;49m\u001b[43mn_jobs\u001b[49m\u001b[43m,\u001b[49m\n\u001b[1;32m    340\u001b[0m \u001b[43m        \u001b[49m\u001b[43mverbose\u001b[49m\u001b[38;5;241;43m=\u001b[39;49m\u001b[43mverbose\u001b[49m\u001b[43m,\u001b[49m\n\u001b[1;32m    341\u001b[0m \u001b[43m        \u001b[49m\u001b[43mcompressed\u001b[49m\u001b[38;5;241;43m=\u001b[39;49m\u001b[38;5;28;43;01mFalse\u001b[39;49;00m\u001b[43m,\u001b[49m\n\u001b[1;32m    342\u001b[0m \u001b[43m    \u001b[49m\u001b[43m)\u001b[49m\n\u001b[1;32m    343\u001b[0m     knn_indices, knn_dists \u001b[38;5;241m=\u001b[39m knn_search_index\u001b[38;5;241m.\u001b[39mneighbor_graph\n\u001b[1;32m    345\u001b[0m \u001b[38;5;28;01mif\u001b[39;00m verbose:\n",
      "File \u001b[0;32m~/anaconda3/envs/myenv/lib/python3.9/site-packages/pynndescent/pynndescent_.py:921\u001b[0m, in \u001b[0;36mNNDescent.__init__\u001b[0;34m(self, data, metric, metric_kwds, n_neighbors, n_trees, leaf_size, pruning_degree_multiplier, diversify_prob, n_search_trees, tree_init, init_graph, init_dist, random_state, low_memory, max_candidates, n_iters, delta, n_jobs, compressed, parallel_batch_queries, verbose)\u001b[0m\n\u001b[1;32m    918\u001b[0m     \u001b[38;5;28;01mif\u001b[39;00m verbose:\n\u001b[1;32m    919\u001b[0m         \u001b[38;5;28mprint\u001b[39m(ts(), \u001b[38;5;124m\"\u001b[39m\u001b[38;5;124mNN descent for\u001b[39m\u001b[38;5;124m\"\u001b[39m, \u001b[38;5;28mstr\u001b[39m(n_iters), \u001b[38;5;124m\"\u001b[39m\u001b[38;5;124miterations\u001b[39m\u001b[38;5;124m\"\u001b[39m)\n\u001b[0;32m--> 921\u001b[0m     \u001b[38;5;28mself\u001b[39m\u001b[38;5;241m.\u001b[39m_neighbor_graph \u001b[38;5;241m=\u001b[39m \u001b[43mnn_descent\u001b[49m\u001b[43m(\u001b[49m\n\u001b[1;32m    922\u001b[0m \u001b[43m        \u001b[49m\u001b[38;5;28;43mself\u001b[39;49m\u001b[38;5;241;43m.\u001b[39;49m\u001b[43m_raw_data\u001b[49m\u001b[43m,\u001b[49m\n\u001b[1;32m    923\u001b[0m \u001b[43m        \u001b[49m\u001b[38;5;28;43mself\u001b[39;49m\u001b[38;5;241;43m.\u001b[39;49m\u001b[43mn_neighbors\u001b[49m\u001b[43m,\u001b[49m\n\u001b[1;32m    924\u001b[0m \u001b[43m        \u001b[49m\u001b[38;5;28;43mself\u001b[39;49m\u001b[38;5;241;43m.\u001b[39;49m\u001b[43mrng_state\u001b[49m\u001b[43m,\u001b[49m\n\u001b[1;32m    925\u001b[0m \u001b[43m        \u001b[49m\u001b[43meffective_max_candidates\u001b[49m\u001b[43m,\u001b[49m\n\u001b[1;32m    926\u001b[0m \u001b[43m        \u001b[49m\u001b[38;5;28;43mself\u001b[39;49m\u001b[38;5;241;43m.\u001b[39;49m\u001b[43m_distance_func\u001b[49m\u001b[43m,\u001b[49m\n\u001b[1;32m    927\u001b[0m \u001b[43m        \u001b[49m\u001b[38;5;28;43mself\u001b[39;49m\u001b[38;5;241;43m.\u001b[39;49m\u001b[43mn_iters\u001b[49m\u001b[43m,\u001b[49m\n\u001b[1;32m    928\u001b[0m \u001b[43m        \u001b[49m\u001b[38;5;28;43mself\u001b[39;49m\u001b[38;5;241;43m.\u001b[39;49m\u001b[43mdelta\u001b[49m\u001b[43m,\u001b[49m\n\u001b[1;32m    929\u001b[0m \u001b[43m        \u001b[49m\u001b[43mlow_memory\u001b[49m\u001b[38;5;241;43m=\u001b[39;49m\u001b[38;5;28;43mself\u001b[39;49m\u001b[38;5;241;43m.\u001b[39;49m\u001b[43mlow_memory\u001b[49m\u001b[43m,\u001b[49m\n\u001b[1;32m    930\u001b[0m \u001b[43m        \u001b[49m\u001b[43mrp_tree_init\u001b[49m\u001b[38;5;241;43m=\u001b[39;49m\u001b[38;5;28;43;01mTrue\u001b[39;49;00m\u001b[43m,\u001b[49m\n\u001b[1;32m    931\u001b[0m \u001b[43m        \u001b[49m\u001b[43minit_graph\u001b[49m\u001b[38;5;241;43m=\u001b[39;49m\u001b[43m_init_graph\u001b[49m\u001b[43m,\u001b[49m\n\u001b[1;32m    932\u001b[0m \u001b[43m        \u001b[49m\u001b[43mleaf_array\u001b[49m\u001b[38;5;241;43m=\u001b[39;49m\u001b[43mleaf_array\u001b[49m\u001b[43m,\u001b[49m\n\u001b[1;32m    933\u001b[0m \u001b[43m        \u001b[49m\u001b[43mverbose\u001b[49m\u001b[38;5;241;43m=\u001b[39;49m\u001b[43mverbose\u001b[49m\u001b[43m,\u001b[49m\n\u001b[1;32m    934\u001b[0m \u001b[43m    \u001b[49m\u001b[43m)\u001b[49m\n\u001b[1;32m    936\u001b[0m \u001b[38;5;28;01mif\u001b[39;00m np\u001b[38;5;241m.\u001b[39many(\u001b[38;5;28mself\u001b[39m\u001b[38;5;241m.\u001b[39m_neighbor_graph[\u001b[38;5;241m0\u001b[39m] \u001b[38;5;241m<\u001b[39m \u001b[38;5;241m0\u001b[39m):\n\u001b[1;32m    937\u001b[0m     warn(\n\u001b[1;32m    938\u001b[0m         \u001b[38;5;124m\"\u001b[39m\u001b[38;5;124mFailed to correctly find n_neighbors for some samples.\u001b[39m\u001b[38;5;124m\"\u001b[39m\n\u001b[1;32m    939\u001b[0m         \u001b[38;5;124m\"\u001b[39m\u001b[38;5;124m Results may be less than ideal. Try re-running with\u001b[39m\u001b[38;5;124m\"\u001b[39m\n\u001b[1;32m    940\u001b[0m         \u001b[38;5;124m\"\u001b[39m\u001b[38;5;124m different parameters.\u001b[39m\u001b[38;5;124m\"\u001b[39m\n\u001b[1;32m    941\u001b[0m     )\n",
      "File \u001b[0;32m~/anaconda3/envs/myenv/lib/python3.9/site-packages/numba/core/dispatcher.py:468\u001b[0m, in \u001b[0;36m_DispatcherBase._compile_for_args\u001b[0;34m(self, *args, **kws)\u001b[0m\n\u001b[1;32m    464\u001b[0m         msg \u001b[38;5;241m=\u001b[39m (\u001b[38;5;124mf\u001b[39m\u001b[38;5;124m\"\u001b[39m\u001b[38;5;132;01m{\u001b[39;00m\u001b[38;5;28mstr\u001b[39m(e)\u001b[38;5;241m.\u001b[39mrstrip()\u001b[38;5;132;01m}\u001b[39;00m\u001b[38;5;124m \u001b[39m\u001b[38;5;130;01m\\n\u001b[39;00m\u001b[38;5;130;01m\\n\u001b[39;00m\u001b[38;5;124mThis error may have been caused \u001b[39m\u001b[38;5;124m\"\u001b[39m\n\u001b[1;32m    465\u001b[0m                \u001b[38;5;124mf\u001b[39m\u001b[38;5;124m\"\u001b[39m\u001b[38;5;124mby the following argument(s):\u001b[39m\u001b[38;5;130;01m\\n\u001b[39;00m\u001b[38;5;132;01m{\u001b[39;00margs_str\u001b[38;5;132;01m}\u001b[39;00m\u001b[38;5;130;01m\\n\u001b[39;00m\u001b[38;5;124m\"\u001b[39m)\n\u001b[1;32m    466\u001b[0m         e\u001b[38;5;241m.\u001b[39mpatch_message(msg)\n\u001b[0;32m--> 468\u001b[0m     \u001b[43merror_rewrite\u001b[49m\u001b[43m(\u001b[49m\u001b[43me\u001b[49m\u001b[43m,\u001b[49m\u001b[43m \u001b[49m\u001b[38;5;124;43m'\u001b[39;49m\u001b[38;5;124;43mtyping\u001b[39;49m\u001b[38;5;124;43m'\u001b[39;49m\u001b[43m)\u001b[49m\n\u001b[1;32m    469\u001b[0m \u001b[38;5;28;01mexcept\u001b[39;00m errors\u001b[38;5;241m.\u001b[39mUnsupportedError \u001b[38;5;28;01mas\u001b[39;00m e:\n\u001b[1;32m    470\u001b[0m     \u001b[38;5;66;03m# Something unsupported is present in the user code, add help info\u001b[39;00m\n\u001b[1;32m    471\u001b[0m     error_rewrite(e, \u001b[38;5;124m'\u001b[39m\u001b[38;5;124munsupported_error\u001b[39m\u001b[38;5;124m'\u001b[39m)\n",
      "File \u001b[0;32m~/anaconda3/envs/myenv/lib/python3.9/site-packages/numba/core/dispatcher.py:409\u001b[0m, in \u001b[0;36m_DispatcherBase._compile_for_args.<locals>.error_rewrite\u001b[0;34m(e, issue_type)\u001b[0m\n\u001b[1;32m    407\u001b[0m     \u001b[38;5;28;01mraise\u001b[39;00m e\n\u001b[1;32m    408\u001b[0m \u001b[38;5;28;01melse\u001b[39;00m:\n\u001b[0;32m--> 409\u001b[0m     \u001b[38;5;28;01mraise\u001b[39;00m e\u001b[38;5;241m.\u001b[39mwith_traceback(\u001b[38;5;28;01mNone\u001b[39;00m)\n",
      "\u001b[0;31mTypingError\u001b[0m: Failed in nopython mode pipeline (step: nopython frontend)\n\u001b[1m\u001b[1m\u001b[1m\u001b[1mFailed in nopython mode pipeline (step: nopython frontend)\n\u001b[1mUntyped global name 'print':\u001b[0m \u001b[1m\u001b[1mCannot determine Numba type of <class 'function'>\u001b[0m\n\u001b[1m\nFile \"../../../../anaconda3/envs/myenv/lib/python3.9/site-packages/pynndescent/pynndescent_.py\", line 252:\u001b[0m\n\u001b[1mdef nn_descent_internal_low_memory_parallel(\n    <source elided>\n        if verbose:\n\u001b[1m            print(\"\\t\", n + 1, \" / \", n_iters)\n\u001b[0m            \u001b[1m^\u001b[0m\u001b[0m\n\u001b[0m\n\u001b[0m\u001b[1mDuring: resolving callee type: type(CPUDispatcher(<function nn_descent_internal_low_memory_parallel at 0x7fb9e26488b0>))\u001b[0m\n\u001b[0m\u001b[1mDuring: typing of call at /home/roger/anaconda3/envs/myenv/lib/python3.9/site-packages/pynndescent/pynndescent_.py (358)\n\u001b[0m\n\u001b[0m\u001b[1mDuring: resolving callee type: type(CPUDispatcher(<function nn_descent_internal_low_memory_parallel at 0x7fb9e26488b0>))\u001b[0m\n\u001b[0m\u001b[1mDuring: typing of call at /home/roger/anaconda3/envs/myenv/lib/python3.9/site-packages/pynndescent/pynndescent_.py (358)\n\u001b[0m\n\u001b[1m\nFile \"../../../../anaconda3/envs/myenv/lib/python3.9/site-packages/pynndescent/pynndescent_.py\", line 358:\u001b[0m\n\u001b[1mdef nn_descent(\n    <source elided>\n    if low_memory:\n\u001b[1m        nn_descent_internal_low_memory_parallel(\n\u001b[0m        \u001b[1m^\u001b[0m\u001b[0m\n"
     ]
    }
   ],
   "source": [
    "from pycisTopic.clust_vis import *\n",
    "run_umap(cistopic_obj)  #scale=True) #target  = 'cell',"
   ]
  },
  {
   "cell_type": "code",
   "execution_count": 40,
   "id": "6fcdaa06-80c0-476f-bbfd-e4ef605423fc",
   "metadata": {},
   "outputs": [
    {
     "ename": "KeyError",
     "evalue": "'UMAP'",
     "output_type": "error",
     "traceback": [
      "\u001b[0;31m---------------------------------------------------------------------------\u001b[0m",
      "\u001b[0;31mKeyError\u001b[0m                                  Traceback (most recent call last)",
      "Cell \u001b[0;32mIn[40], line 1\u001b[0m\n\u001b[0;32m----> 1\u001b[0m \u001b[43mplot_metadata\u001b[49m\u001b[43m(\u001b[49m\u001b[43mcistopic_obj\u001b[49m\u001b[43m,\u001b[49m\u001b[43m \u001b[49m\u001b[43mreduction_name\u001b[49m\u001b[43m \u001b[49m\u001b[38;5;241;43m=\u001b[39;49m\u001b[43m \u001b[49m\u001b[38;5;124;43m'\u001b[39;49m\u001b[38;5;124;43mUMAP\u001b[39;49m\u001b[38;5;124;43m'\u001b[39;49m\u001b[43m,\u001b[49m\u001b[43m \u001b[49m\u001b[43mvariables\u001b[49m\u001b[43m \u001b[49m\u001b[38;5;241;43m=\u001b[39;49m\u001b[43m \u001b[49m\u001b[43m[\u001b[49m\u001b[38;5;124;43m'\u001b[39;49m\u001b[38;5;124;43mcell_type\u001b[39;49m\u001b[38;5;124;43m'\u001b[39;49m\u001b[43m]\u001b[49m\u001b[43m)\u001b[49m\n",
      "File \u001b[0;32m~/Github/OpenProblems/Conda/pycisTopic/pycisTopic/clust_vis.py:437\u001b[0m, in \u001b[0;36mplot_metadata\u001b[0;34m(cistopic_obj, reduction_name, variables, target, remove_nan, show_label, show_legend, cmap, dot_size, text_size, alpha, seed, color_dictionary, figsize, num_columns, selected_features, save)\u001b[0m\n\u001b[1;32m    434\u001b[0m \u001b[38;5;28;01mif\u001b[39;00m target \u001b[38;5;241m==\u001b[39m \u001b[38;5;124m\"\u001b[39m\u001b[38;5;124mregion\u001b[39m\u001b[38;5;124m\"\u001b[39m:\n\u001b[1;32m    435\u001b[0m     data_mat \u001b[38;5;241m=\u001b[39m cistopic_obj\u001b[38;5;241m.\u001b[39mregion_data\n\u001b[0;32m--> 437\u001b[0m embedding \u001b[38;5;241m=\u001b[39m \u001b[43mcistopic_obj\u001b[49m\u001b[38;5;241;43m.\u001b[39;49m\u001b[43mprojections\u001b[49m\u001b[43m[\u001b[49m\u001b[43mtarget\u001b[49m\u001b[43m]\u001b[49m\u001b[43m[\u001b[49m\u001b[43mreduction_name\u001b[49m\u001b[43m]\u001b[49m\n\u001b[1;32m    439\u001b[0m \u001b[38;5;28;01mif\u001b[39;00m selected_features \u001b[38;5;129;01mis\u001b[39;00m \u001b[38;5;129;01mnot\u001b[39;00m \u001b[38;5;28;01mNone\u001b[39;00m:\n\u001b[1;32m    440\u001b[0m     data_mat \u001b[38;5;241m=\u001b[39m data_mat\u001b[38;5;241m.\u001b[39mloc[selected_features]\n",
      "\u001b[0;31mKeyError\u001b[0m: 'UMAP'"
     ]
    }
   ],
   "source": [
    "plot_metadata(cistopic_obj, reduction_name = 'UMAP', variables = ['cell_type'])"
   ]
  },
  {
   "cell_type": "code",
   "execution_count": 43,
   "id": "e55ee04b-73b9-44c7-9638-104e7544fbb6",
   "metadata": {},
   "outputs": [
    {
     "ename": "NotImplementedError",
     "evalue": "isna is not defined for MultiIndex",
     "output_type": "error",
     "traceback": [
      "\u001b[0;31m---------------------------------------------------------------------------\u001b[0m",
      "\u001b[0;31mNotImplementedError\u001b[0m                       Traceback (most recent call last)",
      "Cell \u001b[0;32mIn[43], line 1\u001b[0m\n\u001b[0;32m----> 1\u001b[0m \u001b[43mcell_topic_heatmap\u001b[49m\u001b[43m(\u001b[49m\u001b[43mcistopic_obj\u001b[49m\u001b[43m,\u001b[49m\n\u001b[1;32m      2\u001b[0m \u001b[43m                     \u001b[49m\u001b[43mvariables\u001b[49m\u001b[43m \u001b[49m\u001b[38;5;241;43m=\u001b[39;49m\u001b[43m \u001b[49m\u001b[43m[\u001b[49m\u001b[38;5;124;43m'\u001b[39;49m\u001b[38;5;124;43mcell_type\u001b[39;49m\u001b[38;5;124;43m'\u001b[39;49m\u001b[43m]\u001b[49m\u001b[43m,\u001b[49m\n\u001b[1;32m      3\u001b[0m \u001b[43m                     \u001b[49m\u001b[43mscale\u001b[49m\u001b[43m \u001b[49m\u001b[38;5;241;43m=\u001b[39;49m\u001b[43m \u001b[49m\u001b[38;5;28;43;01mFalse\u001b[39;49;00m\u001b[43m,\u001b[49m\n\u001b[1;32m      4\u001b[0m \u001b[43m                     \u001b[49m\u001b[43mlegend_loc_x\u001b[49m\u001b[43m \u001b[49m\u001b[38;5;241;43m=\u001b[39;49m\u001b[43m \u001b[49m\u001b[38;5;241;43m1.05\u001b[39;49m\u001b[43m,\u001b[49m\n\u001b[1;32m      5\u001b[0m \u001b[43m                     \u001b[49m\u001b[43mlegend_loc_y\u001b[49m\u001b[43m \u001b[49m\u001b[38;5;241;43m=\u001b[39;49m\u001b[43m \u001b[49m\u001b[38;5;241;43m-\u001b[39;49m\u001b[38;5;241;43m1.2\u001b[39;49m\u001b[43m,\u001b[49m\n\u001b[1;32m      6\u001b[0m \u001b[43m                     \u001b[49m\u001b[43mlegend_dist_y\u001b[49m\u001b[43m \u001b[49m\u001b[38;5;241;43m=\u001b[39;49m\u001b[43m \u001b[49m\u001b[38;5;241;43m-\u001b[39;49m\u001b[38;5;241;43m1\u001b[39;49m\u001b[43m,\u001b[49m\n\u001b[1;32m      7\u001b[0m \u001b[43m                     \u001b[49m\u001b[43mfigsize\u001b[49m\u001b[38;5;241;43m=\u001b[39;49m\u001b[43m(\u001b[49m\u001b[38;5;241;43m10\u001b[39;49m\u001b[43m,\u001b[49m\u001b[38;5;241;43m10\u001b[39;49m\u001b[43m)\u001b[49m\u001b[43m)\u001b[49m\n",
      "File \u001b[0;32m~/Github/OpenProblems/Conda/pycisTopic/pycisTopic/clust_vis.py:960\u001b[0m, in \u001b[0;36mcell_topic_heatmap\u001b[0;34m(cistopic_obj, variables, remove_nan, scale, cluster_topics, color_dict, seed, legend_loc_x, legend_loc_y, legend_dist_y, figsize, selected_topics, selected_cells, harmony, save)\u001b[0m\n\u001b[1;32m    958\u001b[0m         color \u001b[38;5;241m=\u001b[39m [mcolors\u001b[38;5;241m.\u001b[39mto_rgb(x) \u001b[38;5;28;01mfor\u001b[39;00m x \u001b[38;5;129;01min\u001b[39;00m color]\n\u001b[1;32m    959\u001b[0m         color_dict[var] \u001b[38;5;241m=\u001b[39m \u001b[38;5;28mdict\u001b[39m(\u001b[38;5;28mzip\u001b[39m(categories, color))\n\u001b[0;32m--> 960\u001b[0m     col_colors[var] \u001b[38;5;241m=\u001b[39m \u001b[43mvar_data\u001b[49m\u001b[38;5;241;43m.\u001b[39;49m\u001b[43mmap\u001b[49m\u001b[43m(\u001b[49m\u001b[43mcolor_dict\u001b[49m\u001b[43m[\u001b[49m\u001b[43mvar\u001b[49m\u001b[43m]\u001b[49m\u001b[43m)\u001b[49m\n\u001b[1;32m    961\u001b[0m col_colors \u001b[38;5;241m=\u001b[39m pd\u001b[38;5;241m.\u001b[39mconcat([col_colors[var]\n\u001b[1;32m    962\u001b[0m                         \u001b[38;5;28;01mfor\u001b[39;00m var \u001b[38;5;129;01min\u001b[39;00m variables], axis\u001b[38;5;241m=\u001b[39m\u001b[38;5;241m1\u001b[39m, sort\u001b[38;5;241m=\u001b[39m\u001b[38;5;28;01mFalse\u001b[39;00m)\n\u001b[1;32m    964\u001b[0m g \u001b[38;5;241m=\u001b[39m sns\u001b[38;5;241m.\u001b[39mclustermap(cell_topic,\n\u001b[1;32m    965\u001b[0m                    row_cluster\u001b[38;5;241m=\u001b[39mcluster_topics,\n\u001b[1;32m    966\u001b[0m                    col_cluster\u001b[38;5;241m=\u001b[39m\u001b[38;5;28;01mFalse\u001b[39;00m,\n\u001b[0;32m   (...)\u001b[0m\n\u001b[1;32m    969\u001b[0m                    xticklabels\u001b[38;5;241m=\u001b[39m\u001b[38;5;28;01mFalse\u001b[39;00m,\n\u001b[1;32m    970\u001b[0m                    figsize\u001b[38;5;241m=\u001b[39mfigsize)\n",
      "File \u001b[0;32m~/anaconda3/envs/myenv/lib/python3.9/site-packages/pandas/core/series.py:4542\u001b[0m, in \u001b[0;36mSeries.map\u001b[0;34m(self, arg, na_action)\u001b[0m\n\u001b[1;32m   4463\u001b[0m \u001b[38;5;28;01mdef\u001b[39;00m \u001b[38;5;21mmap\u001b[39m(\n\u001b[1;32m   4464\u001b[0m     \u001b[38;5;28mself\u001b[39m,\n\u001b[1;32m   4465\u001b[0m     arg: Callable \u001b[38;5;241m|\u001b[39m Mapping \u001b[38;5;241m|\u001b[39m Series,\n\u001b[1;32m   4466\u001b[0m     na_action: Literal[\u001b[38;5;124m\"\u001b[39m\u001b[38;5;124mignore\u001b[39m\u001b[38;5;124m\"\u001b[39m] \u001b[38;5;241m|\u001b[39m \u001b[38;5;28;01mNone\u001b[39;00m \u001b[38;5;241m=\u001b[39m \u001b[38;5;28;01mNone\u001b[39;00m,\n\u001b[1;32m   4467\u001b[0m ) \u001b[38;5;241m-\u001b[39m\u001b[38;5;241m>\u001b[39m Series:\n\u001b[1;32m   4468\u001b[0m \u001b[38;5;250m    \u001b[39m\u001b[38;5;124;03m\"\"\"\u001b[39;00m\n\u001b[1;32m   4469\u001b[0m \u001b[38;5;124;03m    Map values of Series according to an input mapping or function.\u001b[39;00m\n\u001b[1;32m   4470\u001b[0m \n\u001b[0;32m   (...)\u001b[0m\n\u001b[1;32m   4540\u001b[0m \u001b[38;5;124;03m    dtype: object\u001b[39;00m\n\u001b[1;32m   4541\u001b[0m \u001b[38;5;124;03m    \"\"\"\u001b[39;00m\n\u001b[0;32m-> 4542\u001b[0m     new_values \u001b[38;5;241m=\u001b[39m \u001b[38;5;28;43mself\u001b[39;49m\u001b[38;5;241;43m.\u001b[39;49m\u001b[43m_map_values\u001b[49m\u001b[43m(\u001b[49m\u001b[43marg\u001b[49m\u001b[43m,\u001b[49m\u001b[43m \u001b[49m\u001b[43mna_action\u001b[49m\u001b[38;5;241;43m=\u001b[39;49m\u001b[43mna_action\u001b[49m\u001b[43m)\u001b[49m\n\u001b[1;32m   4543\u001b[0m     \u001b[38;5;28;01mreturn\u001b[39;00m \u001b[38;5;28mself\u001b[39m\u001b[38;5;241m.\u001b[39m_constructor(new_values, index\u001b[38;5;241m=\u001b[39m\u001b[38;5;28mself\u001b[39m\u001b[38;5;241m.\u001b[39mindex)\u001b[38;5;241m.\u001b[39m__finalize__(\n\u001b[1;32m   4544\u001b[0m         \u001b[38;5;28mself\u001b[39m, method\u001b[38;5;241m=\u001b[39m\u001b[38;5;124m\"\u001b[39m\u001b[38;5;124mmap\u001b[39m\u001b[38;5;124m\"\u001b[39m\n\u001b[1;32m   4545\u001b[0m     )\n",
      "File \u001b[0;32m~/anaconda3/envs/myenv/lib/python3.9/site-packages/pandas/core/base.py:858\u001b[0m, in \u001b[0;36mIndexOpsMixin._map_values\u001b[0;34m(self, mapper, na_action)\u001b[0m\n\u001b[1;32m    853\u001b[0m \u001b[38;5;28;01mif\u001b[39;00m is_categorical_dtype(\u001b[38;5;28mself\u001b[39m\u001b[38;5;241m.\u001b[39mdtype):\n\u001b[1;32m    854\u001b[0m     \u001b[38;5;66;03m# use the built in categorical series mapper which saves\u001b[39;00m\n\u001b[1;32m    855\u001b[0m     \u001b[38;5;66;03m# time by mapping the categories instead of all values\u001b[39;00m\n\u001b[1;32m    857\u001b[0m     cat \u001b[38;5;241m=\u001b[39m cast(\u001b[38;5;124m\"\u001b[39m\u001b[38;5;124mCategorical\u001b[39m\u001b[38;5;124m\"\u001b[39m, \u001b[38;5;28mself\u001b[39m\u001b[38;5;241m.\u001b[39m_values)\n\u001b[0;32m--> 858\u001b[0m     \u001b[38;5;28;01mreturn\u001b[39;00m \u001b[43mcat\u001b[49m\u001b[38;5;241;43m.\u001b[39;49m\u001b[43mmap\u001b[49m\u001b[43m(\u001b[49m\u001b[43mmapper\u001b[49m\u001b[43m)\u001b[49m\n\u001b[1;32m    860\u001b[0m values \u001b[38;5;241m=\u001b[39m \u001b[38;5;28mself\u001b[39m\u001b[38;5;241m.\u001b[39m_values\n\u001b[1;32m    862\u001b[0m indexer \u001b[38;5;241m=\u001b[39m mapper\u001b[38;5;241m.\u001b[39mindex\u001b[38;5;241m.\u001b[39mget_indexer(values)\n",
      "File \u001b[0;32m~/anaconda3/envs/myenv/lib/python3.9/site-packages/pandas/core/arrays/categorical.py:1536\u001b[0m, in \u001b[0;36mCategorical.map\u001b[0;34m(self, mapper)\u001b[0m\n\u001b[1;32m   1534\u001b[0m new_categories \u001b[38;5;241m=\u001b[39m \u001b[38;5;28mself\u001b[39m\u001b[38;5;241m.\u001b[39mcategories\u001b[38;5;241m.\u001b[39mmap(mapper)\n\u001b[1;32m   1535\u001b[0m \u001b[38;5;28;01mtry\u001b[39;00m:\n\u001b[0;32m-> 1536\u001b[0m     \u001b[38;5;28;01mreturn\u001b[39;00m \u001b[38;5;28;43mself\u001b[39;49m\u001b[38;5;241;43m.\u001b[39;49m\u001b[43mfrom_codes\u001b[49m\u001b[43m(\u001b[49m\n\u001b[1;32m   1537\u001b[0m \u001b[43m        \u001b[49m\u001b[38;5;28;43mself\u001b[39;49m\u001b[38;5;241;43m.\u001b[39;49m\u001b[43m_codes\u001b[49m\u001b[38;5;241;43m.\u001b[39;49m\u001b[43mcopy\u001b[49m\u001b[43m(\u001b[49m\u001b[43m)\u001b[49m\u001b[43m,\u001b[49m\u001b[43m \u001b[49m\u001b[43mcategories\u001b[49m\u001b[38;5;241;43m=\u001b[39;49m\u001b[43mnew_categories\u001b[49m\u001b[43m,\u001b[49m\u001b[43m \u001b[49m\u001b[43mordered\u001b[49m\u001b[38;5;241;43m=\u001b[39;49m\u001b[38;5;28;43mself\u001b[39;49m\u001b[38;5;241;43m.\u001b[39;49m\u001b[43mordered\u001b[49m\n\u001b[1;32m   1538\u001b[0m \u001b[43m    \u001b[49m\u001b[43m)\u001b[49m\n\u001b[1;32m   1539\u001b[0m \u001b[38;5;28;01mexcept\u001b[39;00m \u001b[38;5;167;01mValueError\u001b[39;00m:\n\u001b[1;32m   1540\u001b[0m     \u001b[38;5;66;03m# NA values are represented in self._codes with -1\u001b[39;00m\n\u001b[1;32m   1541\u001b[0m     \u001b[38;5;66;03m# np.take causes NA values to take final element in new_categories\u001b[39;00m\n\u001b[1;32m   1542\u001b[0m     \u001b[38;5;28;01mif\u001b[39;00m np\u001b[38;5;241m.\u001b[39many(\u001b[38;5;28mself\u001b[39m\u001b[38;5;241m.\u001b[39m_codes \u001b[38;5;241m==\u001b[39m \u001b[38;5;241m-\u001b[39m\u001b[38;5;241m1\u001b[39m):\n",
      "File \u001b[0;32m~/anaconda3/envs/myenv/lib/python3.9/site-packages/pandas/core/arrays/categorical.py:688\u001b[0m, in \u001b[0;36mCategorical.from_codes\u001b[0;34m(cls, codes, categories, ordered, dtype)\u001b[0m\n\u001b[1;32m    646\u001b[0m \u001b[38;5;129m@classmethod\u001b[39m\n\u001b[1;32m    647\u001b[0m \u001b[38;5;28;01mdef\u001b[39;00m \u001b[38;5;21mfrom_codes\u001b[39m(\n\u001b[1;32m    648\u001b[0m     \u001b[38;5;28mcls\u001b[39m, codes, categories\u001b[38;5;241m=\u001b[39m\u001b[38;5;28;01mNone\u001b[39;00m, ordered\u001b[38;5;241m=\u001b[39m\u001b[38;5;28;01mNone\u001b[39;00m, dtype: Dtype \u001b[38;5;241m|\u001b[39m \u001b[38;5;28;01mNone\u001b[39;00m \u001b[38;5;241m=\u001b[39m \u001b[38;5;28;01mNone\u001b[39;00m\n\u001b[1;32m    649\u001b[0m ) \u001b[38;5;241m-\u001b[39m\u001b[38;5;241m>\u001b[39m Categorical:\n\u001b[1;32m    650\u001b[0m \u001b[38;5;250m    \u001b[39m\u001b[38;5;124;03m\"\"\"\u001b[39;00m\n\u001b[1;32m    651\u001b[0m \u001b[38;5;124;03m    Make a Categorical type from codes and categories or dtype.\u001b[39;00m\n\u001b[1;32m    652\u001b[0m \n\u001b[0;32m   (...)\u001b[0m\n\u001b[1;32m    686\u001b[0m \u001b[38;5;124;03m    Categories (2, object): ['a' < 'b']\u001b[39;00m\n\u001b[1;32m    687\u001b[0m \u001b[38;5;124;03m    \"\"\"\u001b[39;00m\n\u001b[0;32m--> 688\u001b[0m     dtype \u001b[38;5;241m=\u001b[39m \u001b[43mCategoricalDtype\u001b[49m\u001b[38;5;241;43m.\u001b[39;49m\u001b[43m_from_values_or_dtype\u001b[49m\u001b[43m(\u001b[49m\n\u001b[1;32m    689\u001b[0m \u001b[43m        \u001b[49m\u001b[43mcategories\u001b[49m\u001b[38;5;241;43m=\u001b[39;49m\u001b[43mcategories\u001b[49m\u001b[43m,\u001b[49m\u001b[43m \u001b[49m\u001b[43mordered\u001b[49m\u001b[38;5;241;43m=\u001b[39;49m\u001b[43mordered\u001b[49m\u001b[43m,\u001b[49m\u001b[43m \u001b[49m\u001b[43mdtype\u001b[49m\u001b[38;5;241;43m=\u001b[39;49m\u001b[43mdtype\u001b[49m\n\u001b[1;32m    690\u001b[0m \u001b[43m    \u001b[49m\u001b[43m)\u001b[49m\n\u001b[1;32m    691\u001b[0m     \u001b[38;5;28;01mif\u001b[39;00m dtype\u001b[38;5;241m.\u001b[39mcategories \u001b[38;5;129;01mis\u001b[39;00m \u001b[38;5;28;01mNone\u001b[39;00m:\n\u001b[1;32m    692\u001b[0m         msg \u001b[38;5;241m=\u001b[39m (\n\u001b[1;32m    693\u001b[0m             \u001b[38;5;124m\"\u001b[39m\u001b[38;5;124mThe categories must be provided in \u001b[39m\u001b[38;5;124m'\u001b[39m\u001b[38;5;124mcategories\u001b[39m\u001b[38;5;124m'\u001b[39m\u001b[38;5;124m or \u001b[39m\u001b[38;5;124m\"\u001b[39m\n\u001b[1;32m    694\u001b[0m             \u001b[38;5;124m\"\u001b[39m\u001b[38;5;124m'\u001b[39m\u001b[38;5;124mdtype\u001b[39m\u001b[38;5;124m'\u001b[39m\u001b[38;5;124m. Both were None.\u001b[39m\u001b[38;5;124m\"\u001b[39m\n\u001b[1;32m    695\u001b[0m         )\n",
      "File \u001b[0;32m~/anaconda3/envs/myenv/lib/python3.9/site-packages/pandas/core/dtypes/dtypes.py:299\u001b[0m, in \u001b[0;36mCategoricalDtype._from_values_or_dtype\u001b[0;34m(cls, values, categories, ordered, dtype)\u001b[0m\n\u001b[1;32m    292\u001b[0m     dtype \u001b[38;5;241m=\u001b[39m values\u001b[38;5;241m.\u001b[39mdtype\u001b[38;5;241m.\u001b[39m_from_categorical_dtype(\n\u001b[1;32m    293\u001b[0m         values\u001b[38;5;241m.\u001b[39mdtype, categories, ordered\n\u001b[1;32m    294\u001b[0m     )\n\u001b[1;32m    295\u001b[0m \u001b[38;5;28;01melse\u001b[39;00m:\n\u001b[1;32m    296\u001b[0m     \u001b[38;5;66;03m# If dtype=None and values is not categorical, create a new dtype.\u001b[39;00m\n\u001b[1;32m    297\u001b[0m     \u001b[38;5;66;03m# Note: This could potentially have categories=None and\u001b[39;00m\n\u001b[1;32m    298\u001b[0m     \u001b[38;5;66;03m# ordered=None.\u001b[39;00m\n\u001b[0;32m--> 299\u001b[0m     dtype \u001b[38;5;241m=\u001b[39m \u001b[43mCategoricalDtype\u001b[49m\u001b[43m(\u001b[49m\u001b[43mcategories\u001b[49m\u001b[43m,\u001b[49m\u001b[43m \u001b[49m\u001b[43mordered\u001b[49m\u001b[43m)\u001b[49m\n\u001b[1;32m    301\u001b[0m \u001b[38;5;28;01mreturn\u001b[39;00m cast(CategoricalDtype, dtype)\n",
      "File \u001b[0;32m~/anaconda3/envs/myenv/lib/python3.9/site-packages/pandas/core/dtypes/dtypes.py:186\u001b[0m, in \u001b[0;36mCategoricalDtype.__init__\u001b[0;34m(self, categories, ordered)\u001b[0m\n\u001b[1;32m    185\u001b[0m \u001b[38;5;28;01mdef\u001b[39;00m \u001b[38;5;21m__init__\u001b[39m(\u001b[38;5;28mself\u001b[39m, categories\u001b[38;5;241m=\u001b[39m\u001b[38;5;28;01mNone\u001b[39;00m, ordered: Ordered \u001b[38;5;241m=\u001b[39m \u001b[38;5;28;01mFalse\u001b[39;00m) \u001b[38;5;241m-\u001b[39m\u001b[38;5;241m>\u001b[39m \u001b[38;5;28;01mNone\u001b[39;00m:\n\u001b[0;32m--> 186\u001b[0m     \u001b[38;5;28;43mself\u001b[39;49m\u001b[38;5;241;43m.\u001b[39;49m\u001b[43m_finalize\u001b[49m\u001b[43m(\u001b[49m\u001b[43mcategories\u001b[49m\u001b[43m,\u001b[49m\u001b[43m \u001b[49m\u001b[43mordered\u001b[49m\u001b[43m,\u001b[49m\u001b[43m \u001b[49m\u001b[43mfastpath\u001b[49m\u001b[38;5;241;43m=\u001b[39;49m\u001b[38;5;28;43;01mFalse\u001b[39;49;00m\u001b[43m)\u001b[49m\n",
      "File \u001b[0;32m~/anaconda3/envs/myenv/lib/python3.9/site-packages/pandas/core/dtypes/dtypes.py:340\u001b[0m, in \u001b[0;36mCategoricalDtype._finalize\u001b[0;34m(self, categories, ordered, fastpath)\u001b[0m\n\u001b[1;32m    337\u001b[0m     \u001b[38;5;28mself\u001b[39m\u001b[38;5;241m.\u001b[39mvalidate_ordered(ordered)\n\u001b[1;32m    339\u001b[0m \u001b[38;5;28;01mif\u001b[39;00m categories \u001b[38;5;129;01mis\u001b[39;00m \u001b[38;5;129;01mnot\u001b[39;00m \u001b[38;5;28;01mNone\u001b[39;00m:\n\u001b[0;32m--> 340\u001b[0m     categories \u001b[38;5;241m=\u001b[39m \u001b[38;5;28;43mself\u001b[39;49m\u001b[38;5;241;43m.\u001b[39;49m\u001b[43mvalidate_categories\u001b[49m\u001b[43m(\u001b[49m\u001b[43mcategories\u001b[49m\u001b[43m,\u001b[49m\u001b[43m \u001b[49m\u001b[43mfastpath\u001b[49m\u001b[38;5;241;43m=\u001b[39;49m\u001b[43mfastpath\u001b[49m\u001b[43m)\u001b[49m\n\u001b[1;32m    342\u001b[0m \u001b[38;5;28mself\u001b[39m\u001b[38;5;241m.\u001b[39m_categories \u001b[38;5;241m=\u001b[39m categories\n\u001b[1;32m    343\u001b[0m \u001b[38;5;28mself\u001b[39m\u001b[38;5;241m.\u001b[39m_ordered \u001b[38;5;241m=\u001b[39m ordered\n",
      "File \u001b[0;32m~/anaconda3/envs/myenv/lib/python3.9/site-packages/pandas/core/dtypes/dtypes.py:533\u001b[0m, in \u001b[0;36mCategoricalDtype.validate_categories\u001b[0;34m(categories, fastpath)\u001b[0m\n\u001b[1;32m    529\u001b[0m     categories \u001b[38;5;241m=\u001b[39m Index\u001b[38;5;241m.\u001b[39m_with_infer(categories, tupleize_cols\u001b[38;5;241m=\u001b[39m\u001b[38;5;28;01mFalse\u001b[39;00m)\n\u001b[1;32m    531\u001b[0m \u001b[38;5;28;01mif\u001b[39;00m \u001b[38;5;129;01mnot\u001b[39;00m fastpath:\n\u001b[0;32m--> 533\u001b[0m     \u001b[38;5;28;01mif\u001b[39;00m \u001b[43mcategories\u001b[49m\u001b[38;5;241;43m.\u001b[39;49m\u001b[43mhasnans\u001b[49m:\n\u001b[1;32m    534\u001b[0m         \u001b[38;5;28;01mraise\u001b[39;00m \u001b[38;5;167;01mValueError\u001b[39;00m(\u001b[38;5;124m\"\u001b[39m\u001b[38;5;124mCategorical categories cannot be null\u001b[39m\u001b[38;5;124m\"\u001b[39m)\n\u001b[1;32m    536\u001b[0m     \u001b[38;5;28;01mif\u001b[39;00m \u001b[38;5;129;01mnot\u001b[39;00m categories\u001b[38;5;241m.\u001b[39mis_unique:\n",
      "File \u001b[0;32m~/anaconda3/envs/myenv/lib/python3.9/site-packages/pandas/_libs/properties.pyx:36\u001b[0m, in \u001b[0;36mpandas._libs.properties.CachedProperty.__get__\u001b[0;34m()\u001b[0m\n",
      "File \u001b[0;32m~/anaconda3/envs/myenv/lib/python3.9/site-packages/pandas/core/indexes/base.py:2834\u001b[0m, in \u001b[0;36mIndex.hasnans\u001b[0;34m(self)\u001b[0m\n\u001b[1;32m   2828\u001b[0m \u001b[38;5;250m\u001b[39m\u001b[38;5;124;03m\"\"\"\u001b[39;00m\n\u001b[1;32m   2829\u001b[0m \u001b[38;5;124;03mReturn True if there are any NaNs.\u001b[39;00m\n\u001b[1;32m   2830\u001b[0m \n\u001b[1;32m   2831\u001b[0m \u001b[38;5;124;03mEnables various performance speedups.\u001b[39;00m\n\u001b[1;32m   2832\u001b[0m \u001b[38;5;124;03m\"\"\"\u001b[39;00m\n\u001b[1;32m   2833\u001b[0m \u001b[38;5;28;01mif\u001b[39;00m \u001b[38;5;28mself\u001b[39m\u001b[38;5;241m.\u001b[39m_can_hold_na:\n\u001b[0;32m-> 2834\u001b[0m     \u001b[38;5;28;01mreturn\u001b[39;00m \u001b[38;5;28mbool\u001b[39m(\u001b[38;5;28;43mself\u001b[39;49m\u001b[38;5;241;43m.\u001b[39;49m\u001b[43m_isnan\u001b[49m\u001b[38;5;241m.\u001b[39many())\n\u001b[1;32m   2835\u001b[0m \u001b[38;5;28;01melse\u001b[39;00m:\n\u001b[1;32m   2836\u001b[0m     \u001b[38;5;28;01mreturn\u001b[39;00m \u001b[38;5;28;01mFalse\u001b[39;00m\n",
      "File \u001b[0;32m~/anaconda3/envs/myenv/lib/python3.9/site-packages/pandas/_libs/properties.pyx:36\u001b[0m, in \u001b[0;36mpandas._libs.properties.CachedProperty.__get__\u001b[0;34m()\u001b[0m\n",
      "File \u001b[0;32m~/anaconda3/envs/myenv/lib/python3.9/site-packages/pandas/core/indexes/base.py:2819\u001b[0m, in \u001b[0;36mIndex._isnan\u001b[0;34m(self)\u001b[0m\n\u001b[1;32m   2815\u001b[0m \u001b[38;5;250m\u001b[39m\u001b[38;5;124;03m\"\"\"\u001b[39;00m\n\u001b[1;32m   2816\u001b[0m \u001b[38;5;124;03mReturn if each value is NaN.\u001b[39;00m\n\u001b[1;32m   2817\u001b[0m \u001b[38;5;124;03m\"\"\"\u001b[39;00m\n\u001b[1;32m   2818\u001b[0m \u001b[38;5;28;01mif\u001b[39;00m \u001b[38;5;28mself\u001b[39m\u001b[38;5;241m.\u001b[39m_can_hold_na:\n\u001b[0;32m-> 2819\u001b[0m     \u001b[38;5;28;01mreturn\u001b[39;00m \u001b[43misna\u001b[49m\u001b[43m(\u001b[49m\u001b[38;5;28;43mself\u001b[39;49m\u001b[43m)\u001b[49m\n\u001b[1;32m   2820\u001b[0m \u001b[38;5;28;01melse\u001b[39;00m:\n\u001b[1;32m   2821\u001b[0m     \u001b[38;5;66;03m# shouldn't reach to this condition by checking hasnans beforehand\u001b[39;00m\n\u001b[1;32m   2822\u001b[0m     values \u001b[38;5;241m=\u001b[39m np\u001b[38;5;241m.\u001b[39mempty(\u001b[38;5;28mlen\u001b[39m(\u001b[38;5;28mself\u001b[39m), dtype\u001b[38;5;241m=\u001b[39mnp\u001b[38;5;241m.\u001b[39mbool_)\n",
      "File \u001b[0;32m~/anaconda3/envs/myenv/lib/python3.9/site-packages/pandas/core/dtypes/missing.py:185\u001b[0m, in \u001b[0;36misna\u001b[0;34m(obj)\u001b[0m\n\u001b[1;32m    108\u001b[0m \u001b[38;5;28;01mdef\u001b[39;00m \u001b[38;5;21misna\u001b[39m(obj: \u001b[38;5;28mobject\u001b[39m) \u001b[38;5;241m-\u001b[39m\u001b[38;5;241m>\u001b[39m \u001b[38;5;28mbool\u001b[39m \u001b[38;5;241m|\u001b[39m npt\u001b[38;5;241m.\u001b[39mNDArray[np\u001b[38;5;241m.\u001b[39mbool_] \u001b[38;5;241m|\u001b[39m NDFrame:\n\u001b[1;32m    109\u001b[0m \u001b[38;5;250m    \u001b[39m\u001b[38;5;124;03m\"\"\"\u001b[39;00m\n\u001b[1;32m    110\u001b[0m \u001b[38;5;124;03m    Detect missing values for an array-like object.\u001b[39;00m\n\u001b[1;32m    111\u001b[0m \n\u001b[0;32m   (...)\u001b[0m\n\u001b[1;32m    183\u001b[0m \u001b[38;5;124;03m    Name: 1, dtype: bool\u001b[39;00m\n\u001b[1;32m    184\u001b[0m \u001b[38;5;124;03m    \"\"\"\u001b[39;00m\n\u001b[0;32m--> 185\u001b[0m     \u001b[38;5;28;01mreturn\u001b[39;00m \u001b[43m_isna\u001b[49m\u001b[43m(\u001b[49m\u001b[43mobj\u001b[49m\u001b[43m)\u001b[49m\n",
      "File \u001b[0;32m~/anaconda3/envs/myenv/lib/python3.9/site-packages/pandas/core/dtypes/missing.py:210\u001b[0m, in \u001b[0;36m_isna\u001b[0;34m(obj, inf_as_na)\u001b[0m\n\u001b[1;32m    208\u001b[0m     \u001b[38;5;28;01mreturn\u001b[39;00m libmissing\u001b[38;5;241m.\u001b[39mchecknull(obj, inf_as_na\u001b[38;5;241m=\u001b[39minf_as_na)\n\u001b[1;32m    209\u001b[0m \u001b[38;5;28;01melif\u001b[39;00m \u001b[38;5;28misinstance\u001b[39m(obj, ABCMultiIndex):\n\u001b[0;32m--> 210\u001b[0m     \u001b[38;5;28;01mraise\u001b[39;00m \u001b[38;5;167;01mNotImplementedError\u001b[39;00m(\u001b[38;5;124m\"\u001b[39m\u001b[38;5;124misna is not defined for MultiIndex\u001b[39m\u001b[38;5;124m\"\u001b[39m)\n\u001b[1;32m    211\u001b[0m \u001b[38;5;28;01melif\u001b[39;00m \u001b[38;5;28misinstance\u001b[39m(obj, \u001b[38;5;28mtype\u001b[39m):\n\u001b[1;32m    212\u001b[0m     \u001b[38;5;28;01mreturn\u001b[39;00m \u001b[38;5;28;01mFalse\u001b[39;00m\n",
      "\u001b[0;31mNotImplementedError\u001b[0m: isna is not defined for MultiIndex"
     ]
    }
   ],
   "source": [
    "cell_topic_heatmap(cistopic_obj,\n",
    "                     variables = ['cell_type'],\n",
    "                     scale = False,\n",
    "                     legend_loc_x = 1.05,\n",
    "                     legend_loc_y = -1.2,\n",
    "                     legend_dist_y = -1,\n",
    "                     figsize=(10,10))"
   ]
  },
  {
   "cell_type": "code",
   "execution_count": null,
   "id": "ec6310d8-414c-408b-8a0a-7c95d9404980",
   "metadata": {},
   "outputs": [],
   "source": []
  },
  {
   "cell_type": "code",
   "execution_count": null,
   "id": "29a2929a-7168-48eb-bfb5-6c76fe7394f5",
   "metadata": {},
   "outputs": [],
   "source": []
  },
  {
   "cell_type": "code",
   "execution_count": 44,
   "id": "cded87ca-b142-4299-82f0-d85cfe256826",
   "metadata": {},
   "outputs": [],
   "source": [
    "from pycisTopic.clust_vis import *\n",
    "from pycisTopic.topic_binarization import *"
   ]
  },
  {
   "cell_type": "code",
   "execution_count": 45,
   "id": "7a848983-28e4-4d2d-a212-07d74f083b6b",
   "metadata": {},
   "outputs": [
    {
     "name": "stdout",
     "output_type": "stream",
     "text": [
      "CistopicObject from project donor_0 with n_cells × n_regions = 7830 × 134203\n"
     ]
    }
   ],
   "source": [
    "print(cistopic_obj)"
   ]
  },
  {
   "cell_type": "markdown",
   "id": "911e055f",
   "metadata": {},
   "source": [
    "### Calculate the binarized topics"
   ]
  },
  {
   "cell_type": "code",
   "execution_count": 46,
   "id": "bcbaa75a-f99e-4a1b-b41b-1278a1a3bccd",
   "metadata": {},
   "outputs": [
    {
     "data": {
      "text/plain": [
       "<Figure size 640x480 with 0 Axes>"
      ]
     },
     "metadata": {},
     "output_type": "display_data"
    },
    {
     "data": {
      "text/plain": [
       "<Figure size 640x480 with 0 Axes>"
      ]
     },
     "metadata": {},
     "output_type": "display_data"
    }
   ],
   "source": [
    "region_bin_topics_top3k = binarize_topics(cistopic_obj, method='ntop', ntop = 3000)\n",
    "region_bin_topics_otsu = binarize_topics(cistopic_obj, method='otsu')"
   ]
  },
  {
   "cell_type": "markdown",
   "id": "a7c26d11",
   "metadata": {},
   "source": [
    "### Compute different accessible regions"
   ]
  },
  {
   "cell_type": "code",
   "execution_count": 47,
   "id": "3b711ac0-524d-43f2-b712-1d37f2f060ec",
   "metadata": {},
   "outputs": [
    {
     "name": "stdout",
     "output_type": "stream",
     "text": [
      "2023-11-21 09:10:18,675 cisTopic     INFO     Imputing region accessibility\n",
      "2023-11-21 09:10:18,676 cisTopic     INFO     Impute region accessibility for regions 0-20000\n",
      "2023-11-21 09:10:19,594 cisTopic     INFO     Impute region accessibility for regions 20000-40000\n",
      "2023-11-21 09:10:20,507 cisTopic     INFO     Impute region accessibility for regions 40000-60000\n",
      "2023-11-21 09:10:21,327 cisTopic     INFO     Impute region accessibility for regions 60000-80000\n",
      "2023-11-21 09:10:22,146 cisTopic     INFO     Impute region accessibility for regions 80000-100000\n",
      "2023-11-21 09:10:22,963 cisTopic     INFO     Impute region accessibility for regions 100000-120000\n",
      "2023-11-21 09:10:23,776 cisTopic     INFO     Impute region accessibility for regions 120000-140000\n",
      "2023-11-21 09:10:24,360 cisTopic     INFO     Done!\n",
      "2023-11-21 09:10:24,362 cisTopic     INFO     Normalizing imputed data\n",
      "2023-11-21 09:10:29,074 cisTopic     INFO     Done!\n",
      "2023-11-21 09:10:29,075 cisTopic     INFO     Calculating mean\n",
      "2023-11-21 09:10:30,046 cisTopic     INFO     Calculating variance\n",
      "2023-11-21 09:10:40,090 cisTopic     INFO     Done!\n",
      "2023-11-21 09:10:41,064 cisTopic     INFO     Subsetting data for B cells (1746 of 7830)\n",
      "2023-11-21 09:10:43,862 cisTopic     INFO     Computing p-value for B cells\n",
      "2023-11-21 09:11:02,296 cisTopic     INFO     Computing log2FC for B cells\n",
      "2023-11-21 09:11:03,183 cisTopic     INFO     B cells done!\n",
      "2023-11-21 09:11:03,186 cisTopic     INFO     Subsetting data for Myeloid cells (1395 of 7830)\n",
      "2023-11-21 09:11:03,381 cisTopic     INFO     Computing p-value for Myeloid cells\n",
      "2023-11-21 09:11:21,302 cisTopic     INFO     Computing log2FC for Myeloid cells\n",
      "2023-11-21 09:11:21,363 cisTopic     INFO     Myeloid cells done!\n",
      "2023-11-21 09:11:21,394 cisTopic     INFO     Subsetting data for NK cells (818 of 7830)\n",
      "2023-11-21 09:11:21,584 cisTopic     INFO     Computing p-value for NK cells\n",
      "2023-11-21 09:11:39,222 cisTopic     INFO     Computing log2FC for NK cells\n",
      "2023-11-21 09:11:39,282 cisTopic     INFO     NK cells done!\n",
      "2023-11-21 09:11:39,332 cisTopic     INFO     Subsetting data for T cells CD4+ (3489 of 7830)\n",
      "2023-11-21 09:11:39,527 cisTopic     INFO     Computing p-value for T cells CD4+\n",
      "2023-11-21 09:11:57,845 cisTopic     INFO     Computing log2FC for T cells CD4+\n",
      "2023-11-21 09:11:57,906 cisTopic     INFO     T cells CD4+ done!\n",
      "2023-11-21 09:11:57,941 cisTopic     INFO     Subsetting data for T cells CD8+ (202 of 7830)\n",
      "2023-11-21 09:11:58,115 cisTopic     INFO     Computing p-value for T cells CD8+\n",
      "2023-11-21 09:12:16,916 cisTopic     INFO     Computing log2FC for T cells CD8+\n",
      "2023-11-21 09:12:16,969 cisTopic     INFO     T cells CD8+ done!\n",
      "2023-11-21 09:12:17,006 cisTopic     INFO     Subsetting data for T regulatory cells (180 of 7830)\n",
      "2023-11-21 09:12:17,171 cisTopic     INFO     Computing p-value for T regulatory cells\n",
      "2023-11-21 09:12:36,200 cisTopic     INFO     Computing log2FC for T regulatory cells\n",
      "2023-11-21 09:12:36,258 cisTopic     INFO     T regulatory cells done!\n"
     ]
    },
    {
     "data": {
      "text/plain": [
       "<Figure size 640x480 with 0 Axes>"
      ]
     },
     "metadata": {},
     "output_type": "display_data"
    }
   ],
   "source": [
    "from pycisTopic.diff_features import *\n",
    "imputed_acc_obj = impute_accessibility(cistopic_obj, selected_cells=None, selected_regions=None, scale_factor=10**6)\n",
    "normalized_imputed_acc_obj = normalize_scores(imputed_acc_obj, scale_factor=10**4)\n",
    "variable_regions = find_highly_variable_features(normalized_imputed_acc_obj, plot = False)\n",
    "markers_dict = find_diff_features(cistopic_obj, imputed_acc_obj, variable='cell_type', var_features=variable_regions, split_pattern = '-')"
   ]
  },
  {
   "cell_type": "markdown",
   "id": "d1a30e51",
   "metadata": {},
   "source": [
    "### Save the object"
   ]
  },
  {
   "cell_type": "code",
   "execution_count": 48,
   "id": "58b4e0ca-39e0-40cf-af34-a384a64da034",
   "metadata": {},
   "outputs": [],
   "source": [
    "if not os.path.exists(os.path.join(work_dir, 'scATAC/candidate_enhancers')):\n",
    "    os.makedirs(os.path.join(work_dir, 'scATAC/candidate_enhancers'))\n",
    "import pickle\n",
    "pickle.dump(region_bin_topics_otsu, open(os.path.join(work_dir, 'scATAC/candidate_enhancers/region_bin_topics_otsu.pkl'), 'wb'))\n",
    "pickle.dump(region_bin_topics_top3k, open(os.path.join(work_dir, 'scATAC/candidate_enhancers/region_bin_topics_top3k.pkl'), 'wb'))\n",
    "pickle.dump(markers_dict, open(os.path.join(work_dir, 'scATAC/candidate_enhancers/markers_dict.pkl'), 'wb'))"
   ]
  }
 ],
 "metadata": {
  "kernelspec": {
   "display_name": "Python 3 (ipykernel)",
   "language": "python",
   "name": "python3"
  },
  "language_info": {
   "codemirror_mode": {
    "name": "ipython",
    "version": 3
   },
   "file_extension": ".py",
   "mimetype": "text/x-python",
   "name": "python",
   "nbconvert_exporter": "python",
   "pygments_lexer": "ipython3",
   "version": "3.8.18"
  }
 },
 "nbformat": 4,
 "nbformat_minor": 5
}
