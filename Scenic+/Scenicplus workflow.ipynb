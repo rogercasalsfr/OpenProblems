{
 "cells": [
  {
   "cell_type": "markdown",
   "id": "95e1936c-ed42-4152-be3f-91556271ff0e",
   "metadata": {},
   "source": [
    "# SCENIC+ Object"
   ]
  },
  {
   "cell_type": "markdown",
   "id": "2b886d4e-47c4-47dc-b416-e0dd397d792d",
   "metadata": {},
   "source": [
    "Import libraries and data"
   ]
  },
  {
   "cell_type": "markdown",
   "id": "db8e8b42-032a-4588-99ba-afd3436bbba0",
   "metadata": {},
   "source": [
    "Install scenicplus and scanpy"
   ]
  },
  {
   "cell_type": "code",
   "execution_count": null,
   "id": "ab4ca3ae-aa67-4d55-aeae-5e34494dc699",
   "metadata": {},
   "outputs": [],
   "source": [
    "# '/home/roger/Github/OpenProblems/Conda/pycisTopic/output/scATAC/adadata_donor_0_scenic.h5ad'\n",
    "# '/home/roger/Github/OpenProblems/Conda/pycisTopic/output/scATAC/cistopic_obj.pkl'\n",
    "# '/home/roger/Github/OpenProblems/Conda/scenicplus/menr.pkl'\n",
    "# '/home/roger/Github/OpenProblems/multiome_var_meta.csv'"
   ]
  },
  {
   "cell_type": "code",
   "execution_count": 1,
   "id": "baf954e7-0a44-4f70-89aa-0dbd45ff23af",
   "metadata": {},
   "outputs": [],
   "source": [
    "import dill\n",
    "import scanpy as sc\n",
    "import os\n",
    "import warnings\n",
    "warnings.filterwarnings(\"ignore\")\n",
    "import pandas as pd\n",
    "import pyranges\n",
    "# Set stderr to null to avoid strange messages from ray\n",
    "import sys\n",
    "import pickle\n",
    "_stderr = sys.stderr\n",
    "null = open(os.devnull,'wb')\n",
    "work_dir = 'pbmc_tutorial'\n",
    "tmp_dir = '/home/roger/tmpdir_rayspill'\n",
    "\n",
    "\n",
    "#Import data\n",
    "adata = sc.read_h5ad('/home/roger/Github/OpenProblems/Conda/pycisTopic/output/scATAC/adadata_donor_0_scenic.h5ad')\n",
    "#cistopic_obj = dill.load(open('/home/roger/Github/OpenProblems/Conda/pycisTopic/output/scATAC/cistopic_obj.pkl'), 'rb')\n",
    "with open('/home/roger/Github/OpenProblems/Conda/pycisTopic/output/scATAC/cistopic_obj.pkl', 'rb') as f:\n",
    "    cistopic_obj = pickle.load(f)\n",
    "with open('/home/roger/Github/OpenProblems/Conda/scenicplus/menr.pkl', 'rb') as f:\n",
    "    menr = pickle.load(f)"
   ]
  },
  {
   "cell_type": "code",
   "execution_count": 2,
   "id": "6bcfce3a-bca2-4130-9ccf-d7a3fb8f9fd7",
   "metadata": {},
   "outputs": [],
   "source": [
    "adata.obs_names = cistopic_obj.cell_names"
   ]
  },
  {
   "cell_type": "code",
   "execution_count": 3,
   "id": "161bbaf5-0372-486f-91e8-e97e5887db0f",
   "metadata": {},
   "outputs": [],
   "source": [
    "multiome_var_meta = pd.read_csv('/home/roger/Github/OpenProblems/multiome_var_meta.csv')\n",
    "genes_locations = multiome_var_meta[multiome_var_meta['feature_type']=='Gene Expression']['location'].values\n",
    "adata.var_names=genes_locations"
   ]
  },
  {
   "cell_type": "code",
   "execution_count": 4,
   "id": "55b7a2fa-3739-4f57-9458-c8252edaa141",
   "metadata": {},
   "outputs": [
    {
     "name": "stdout",
     "output_type": "stream",
     "text": [
      "2023-11-22 16:34:00,983 cisTopic     INFO     Imputing region accessibility\n",
      "2023-11-22 16:34:00,984 cisTopic     INFO     Impute region accessibility for regions 0-20000\n",
      "2023-11-22 16:34:01,794 cisTopic     INFO     Impute region accessibility for regions 20000-40000\n",
      "2023-11-22 16:34:02,611 cisTopic     INFO     Impute region accessibility for regions 40000-60000\n",
      "2023-11-22 16:34:03,423 cisTopic     INFO     Impute region accessibility for regions 60000-80000\n",
      "2023-11-22 16:34:04,241 cisTopic     INFO     Impute region accessibility for regions 80000-100000\n",
      "2023-11-22 16:34:05,064 cisTopic     INFO     Impute region accessibility for regions 100000-120000\n",
      "2023-11-22 16:34:05,891 cisTopic     INFO     Impute region accessibility for regions 120000-140000\n",
      "2023-11-22 16:34:06,478 cisTopic     INFO     Done!\n"
     ]
    },
    {
     "data": {
      "text/plain": [
       "SCENIC+ object with n_cells x n_genes = 7830 x 22787 and n_cells x n_regions = 7830 x 133660\n",
       "\tmetadata_regions:'Chromosome', 'Start', 'End', 'Width', 'cisTopic_nr_frag', 'cisTopic_log_nr_frag', 'cisTopic_nr_acc', 'cisTopic_log_nr_acc'\n",
       "\tmetadata_cell:'GEX_obs_id', 'GEX_cell_type', 'GEX_donor_id', 'GEX_louvain', 'ACC_cisTopic_nr_frag', 'ACC_cisTopic_log_nr_frag', 'ACC_cisTopic_nr_acc', 'ACC_cisTopic_log_nr_acc', 'ACC_sample_id', 'ACC_cell_type'\n",
       "\tmenr:'CTX_topics_otsu_All', 'CTX_topics_otsu_No_promoters', 'DEM_topics_otsu_All', 'DEM_topics_otsu_No_promoters', 'CTX_topics_top_3_All', 'CTX_topics_top_3_No_promoters', 'DEM_topics_top_3_All', 'DEM_topics_top_3_No_promoters', 'CTX_DARs_All', 'CTX_DARs_No_promoters', 'DEM_DARs_All', 'DEM_DARs_No_promoters'\n",
       "\tdr_cell:'GEX_X_pca', 'GEX_X_umap'"
      ]
     },
     "execution_count": 4,
     "metadata": {},
     "output_type": "execute_result"
    }
   ],
   "source": [
    "from scenicplus.scenicplus_class import create_SCENICPLUS_object\n",
    "import numpy as np\n",
    "scplus_obj = create_SCENICPLUS_object(\n",
    "    GEX_anndata = adata,\n",
    "    cisTopic_obj = cistopic_obj,\n",
    "    menr = menr,\n",
    "    #bc_transform_func = lambda x: f'{x}-10x_pbmc' #function to convert scATAC-seq barcodes to scRNA-seq ones\n",
    ")\n",
    "scplus_obj.X_EXP = np.array(scplus_obj.X_EXP.todense())\n",
    "scplus_obj\n",
    "\n"
   ]
  },
  {
   "cell_type": "code",
   "execution_count": 7,
   "id": "02c08a62-1c8b-4c50-af4e-b28a8a377317",
   "metadata": {},
   "outputs": [],
   "source": [
    "work_dir='/home/roger/Github/OpenProblems/Conda/scenicplus'\n",
    "pickle.dump(scplus_obj,\n",
    "            open(os.path.join(work_dir, 'scplus_obj.pkl'), 'wb'))"
   ]
  },
  {
   "cell_type": "code",
   "execution_count": 8,
   "id": "83e324fc-8b87-4bf1-8f17-8face92975fd",
   "metadata": {},
   "outputs": [],
   "source": [
    "with open('/home/roger/Github/OpenProblems/Conda/scenicplus/scplus_obj.pkl', 'rb') as f:\n",
    "    scplus_obj = pickle.load(f)"
   ]
  },
  {
   "cell_type": "code",
   "execution_count": 9,
   "id": "24b6738d-daa7-4b1c-a04a-480a4a5b7dcf",
   "metadata": {},
   "outputs": [
    {
     "data": {
      "text/plain": [
       "SCENIC+ object with n_cells x n_genes = 7830 x 22787 and n_cells x n_regions = 7830 x 133660\n",
       "\tmetadata_regions:'Chromosome', 'Start', 'End', 'Width', 'cisTopic_nr_frag', 'cisTopic_log_nr_frag', 'cisTopic_nr_acc', 'cisTopic_log_nr_acc'\n",
       "\tmetadata_cell:'GEX_obs_id', 'GEX_cell_type', 'GEX_donor_id', 'GEX_louvain', 'ACC_cisTopic_nr_frag', 'ACC_cisTopic_log_nr_frag', 'ACC_cisTopic_nr_acc', 'ACC_cisTopic_log_nr_acc', 'ACC_sample_id', 'ACC_cell_type'\n",
       "\tmenr:'CTX_topics_otsu_All', 'CTX_topics_otsu_No_promoters', 'DEM_topics_otsu_All', 'DEM_topics_otsu_No_promoters', 'CTX_topics_top_3_All', 'CTX_topics_top_3_No_promoters', 'DEM_topics_top_3_All', 'DEM_topics_top_3_No_promoters', 'CTX_DARs_All', 'CTX_DARs_No_promoters', 'DEM_DARs_All', 'DEM_DARs_No_promoters'\n",
       "\tdr_cell:'GEX_X_pca', 'GEX_X_umap'"
      ]
     },
     "execution_count": 9,
     "metadata": {},
     "output_type": "execute_result"
    }
   ],
   "source": [
    "scplus_obj"
   ]
  },
  {
   "cell_type": "code",
   "execution_count": 7,
   "id": "903a9cec-6b39-4335-a3fd-1dc84a86ff7a",
   "metadata": {},
   "outputs": [],
   "source": [
    "biomart_host = \"http://sep2019.archive.ensembl.org/\""
   ]
  },
  {
   "cell_type": "code",
   "execution_count": 14,
   "id": "bddff314-6920-4f62-ae07-e07d35cf843e",
   "metadata": {},
   "outputs": [],
   "source": [
    "#!wget -O 'TF_names_v_1.01.txt' 'http://humantfs.ccbr.utoronto.ca/download/v_1.01/TF_names_v_1.01.txt'"
   ]
  },
  {
   "cell_type": "code",
   "execution_count": 15,
   "id": "c8598f32-d0d4-423c-9c42-bc6c63aa193d",
   "metadata": {},
   "outputs": [],
   "source": [
    "#!wget -O bedToBigBed http://hgdownload.soe.ucsc.edu/admin/exe/linux.x86_64/bedToBigBed\n",
    "#!chmod +x bedToBigBed"
   ]
  },
  {
   "cell_type": "code",
   "execution_count": 9,
   "id": "b27316d7-60ea-46f2-a0ad-c24250631508",
   "metadata": {},
   "outputs": [
    {
     "name": "stdout",
     "output_type": "stream",
     "text": [
      "2023-11-22 09:14:57,345 SCENIC+_wrapper INFO     pbmc_tutorial/scenicplus folder already exists.\n",
      "2023-11-22 09:14:57,347 SCENIC+_wrapper INFO     Getting search space\n",
      "2023-11-22 09:14:59,463 R2G          INFO     Downloading gene annotation from biomart dataset: hsapiens_gene_ensembl\n",
      "2023-11-22 09:16:45,976 R2G          INFO     Downloading chromosome sizes from: http://hgdownload.cse.ucsc.edu/goldenPath/hg38/bigZips/hg38.chrom.sizes\n",
      "2023-11-22 09:16:47,588 R2G          INFO     Extending promoter annotation to 10 bp upstream and 10 downstream\n",
      "Warning! Start and End columns now have different dtypes: int32 and int64\n",
      "Warning! Start and End columns now have different dtypes: int32 and int64\n",
      "2023-11-22 09:16:50,766 R2G          INFO     Extending search space to:\n",
      "            \t\t\t\t\t\t150000 bp downstream of the end of the gene.\n",
      "            \t\t\t\t\t\t150000 bp upstream of the start of the gene.\n",
      "Warning! Start and End columns now have different dtypes: int32 and int64\n",
      "Warning! Start and End columns now have different dtypes: int32 and int64\n",
      "2023-11-22 09:17:00,036 R2G          INFO     Intersecting with regions.\n",
      "Warning! Start and End columns now have different dtypes: int32 and int64\n",
      "2023-11-22 09:17:00,474 R2G          INFO     Calculating distances from region to gene\n"
     ]
    },
    {
     "name": "stderr",
     "output_type": "stream",
     "text": [
      "join: Strand data from other will be added as strand data to self.\n",
      "If this is undesired use the flag apply_strand_suffix=False.\n",
      "To turn off the warning set apply_strand_suffix to True or False.\n"
     ]
    },
    {
     "name": "stdout",
     "output_type": "stream",
     "text": [
      "2023-11-22 09:17:34,183 R2G          INFO     Imploding multiple entries per region and gene\n",
      "2023-11-22 09:18:34,943 R2G          INFO     Done!\n",
      "2023-11-22 09:18:35,127 SCENIC+_wrapper INFO     Inferring region to gene relationships\n",
      "2023-11-22 09:18:35,180 R2G          INFO     Calculating region to gene importances, using GBM method\n"
     ]
    },
    {
     "name": "stderr",
     "output_type": "stream",
     "text": [
      "2023-11-22 09:18:38,771\tINFO worker.py:1664 -- Started a local Ray instance. View the dashboard at \u001b[1m\u001b[32mhttp://127.0.0.1:8265 \u001b[39m\u001b[22m\n",
      "initializing:  81%|██████████████████▋    | 12416/15243 [05:59<02:11, 21.56it/s]\u001b[36m(raylet)\u001b[0m Spilled 3909 MiB, 4000 objects, write throughput 1296 MiB/s. Set RAY_verbose_spill_logs=0 to disable this message.\n",
      "initializing:  82%|██████████████████▊    | 12452/15243 [06:00<01:27, 31.88it/s]\u001b[36m(raylet)\u001b[0m Spilled 7802 MiB, 8000 objects, write throughput 1848 MiB/s.\n",
      "initializing: 100%|███████████████████████| 15243/15243 [07:26<00:00, 34.14it/s]\n",
      "Running using 1 cores: 100%|████████████| 15243/15243 [3:23:26<00:00,  1.25it/s]\n"
     ]
    },
    {
     "name": "stdout",
     "output_type": "stream",
     "text": [
      "2023-11-22 12:49:33,575 R2G          INFO     Took 12658.39366865158 seconds\n",
      "2023-11-22 12:49:33,577 R2G          INFO     Calculating region to gene correlation, using SR method\n"
     ]
    },
    {
     "name": "stderr",
     "output_type": "stream",
     "text": [
      "2023-11-22 12:49:36,143\tINFO worker.py:1664 -- Started a local Ray instance. View the dashboard at \u001b[1m\u001b[32mhttp://127.0.0.1:8265 \u001b[39m\u001b[22m\n",
      "initializing:   1%|▎                        | 216/15243 [00:06<06:58, 35.90it/s]\u001b[36m(_score_regions_to_single_gene_ray pid=72049)\u001b[0m /home/roger/.local/lib/python3.8/site-packages/scipy/stats/_stats_py.py:4916: ConstantInputWarning: An input array is constant; the correlation coefficient is not defined.\n",
      "\u001b[36m(_score_regions_to_single_gene_ray pid=72049)\u001b[0m   warnings.warn(stats.ConstantInputWarning(warn_msg))\n",
      "initializing:  17%|████▏                   | 2636/15243 [01:12<05:40, 36.98it/s]\u001b[36m(_score_regions_to_single_gene_ray pid=72049)\u001b[0m /home/roger/.local/lib/python3.8/site-packages/scipy/stats/_stats_py.py:4916: ConstantInputWarning: An input array is constant; the correlation coefficient is not defined.\n",
      "\u001b[36m(_score_regions_to_single_gene_ray pid=72049)\u001b[0m   warnings.warn(stats.ConstantInputWarning(warn_msg))\n",
      "initializing:  29%|██████▉                 | 4368/15243 [02:00<05:03, 35.83it/s]\u001b[36m(_score_regions_to_single_gene_ray pid=72049)\u001b[0m /home/roger/.local/lib/python3.8/site-packages/scipy/stats/_stats_py.py:4916: ConstantInputWarning: An input array is constant; the correlation coefficient is not defined.\n",
      "\u001b[36m(_score_regions_to_single_gene_ray pid=72049)\u001b[0m   warnings.warn(stats.ConstantInputWarning(warn_msg))\n",
      "initializing:  31%|███████▌                | 4796/15243 [02:13<05:06, 34.13it/s]\u001b[36m(_score_regions_to_single_gene_ray pid=72049)\u001b[0m /home/roger/.local/lib/python3.8/site-packages/scipy/stats/_stats_py.py:4916: ConstantInputWarning: An input array is constant; the correlation coefficient is not defined.\n",
      "\u001b[36m(_score_regions_to_single_gene_ray pid=72049)\u001b[0m   warnings.warn(stats.ConstantInputWarning(warn_msg))\n",
      "initializing:  34%|████████▏               | 5200/15243 [02:24<04:29, 37.31it/s]\u001b[36m(_score_regions_to_single_gene_ray pid=72049)\u001b[0m /home/roger/.local/lib/python3.8/site-packages/scipy/stats/_stats_py.py:4916: ConstantInputWarning: An input array is constant; the correlation coefficient is not defined.\n",
      "\u001b[36m(_score_regions_to_single_gene_ray pid=72049)\u001b[0m   warnings.warn(stats.ConstantInputWarning(warn_msg))\n",
      "initializing:  43%|██████████▍             | 6628/15243 [03:04<03:52, 37.09it/s]\u001b[36m(_score_regions_to_single_gene_ray pid=72049)\u001b[0m /home/roger/.local/lib/python3.8/site-packages/scipy/stats/_stats_py.py:4916: ConstantInputWarning: An input array is constant; the correlation coefficient is not defined.\n",
      "\u001b[36m(_score_regions_to_single_gene_ray pid=72049)\u001b[0m   warnings.warn(stats.ConstantInputWarning(warn_msg))\n",
      "initializing:  46%|███████████             | 7024/15243 [03:15<03:49, 35.86it/s]\u001b[36m(_score_regions_to_single_gene_ray pid=72049)\u001b[0m /home/roger/.local/lib/python3.8/site-packages/scipy/stats/_stats_py.py:4916: ConstantInputWarning: An input array is constant; the correlation coefficient is not defined.\n",
      "\u001b[36m(_score_regions_to_single_gene_ray pid=72049)\u001b[0m   warnings.warn(stats.ConstantInputWarning(warn_msg))\n",
      "initializing:  66%|███████████████        | 10000/15243 [04:39<02:23, 36.49it/s]\u001b[36m(_score_regions_to_single_gene_ray pid=72049)\u001b[0m /home/roger/.local/lib/python3.8/site-packages/scipy/stats/_stats_py.py:4916: ConstantInputWarning: An input array is constant; the correlation coefficient is not defined.\n",
      "\u001b[36m(_score_regions_to_single_gene_ray pid=72049)\u001b[0m   warnings.warn(stats.ConstantInputWarning(warn_msg))\n",
      "initializing:  68%|███████████████▌       | 10296/15243 [04:47<02:15, 36.64it/s]\u001b[36m(_score_regions_to_single_gene_ray pid=72049)\u001b[0m /home/roger/.local/lib/python3.8/site-packages/scipy/stats/_stats_py.py:4916: ConstantInputWarning: An input array is constant; the correlation coefficient is not defined.\n",
      "\u001b[36m(_score_regions_to_single_gene_ray pid=72049)\u001b[0m   warnings.warn(stats.ConstantInputWarning(warn_msg))\n",
      "initializing:  70%|████████████████▏      | 10728/15243 [05:00<02:05, 36.04it/s]\u001b[36m(_score_regions_to_single_gene_ray pid=72049)\u001b[0m /home/roger/.local/lib/python3.8/site-packages/scipy/stats/_stats_py.py:4916: ConstantInputWarning: An input array is constant; the correlation coefficient is not defined.\n",
      "\u001b[36m(_score_regions_to_single_gene_ray pid=72049)\u001b[0m   warnings.warn(stats.ConstantInputWarning(warn_msg))\n",
      "initializing:  72%|████████████████▌      | 10968/15243 [05:07<02:14, 31.78it/s]\u001b[36m(_score_regions_to_single_gene_ray pid=72049)\u001b[0m /home/roger/.local/lib/python3.8/site-packages/scipy/stats/_stats_py.py:4916: ConstantInputWarning: An input array is constant; the correlation coefficient is not defined.\n",
      "\u001b[36m(_score_regions_to_single_gene_ray pid=72049)\u001b[0m   warnings.warn(stats.ConstantInputWarning(warn_msg))\n",
      "initializing:  80%|██████████████████▌    | 12268/15243 [05:43<01:26, 34.57it/s]\u001b[36m(_score_regions_to_single_gene_ray pid=72049)\u001b[0m /home/roger/.local/lib/python3.8/site-packages/scipy/stats/_stats_py.py:4916: ConstantInputWarning: An input array is constant; the correlation coefficient is not defined.\n",
      "\u001b[36m(_score_regions_to_single_gene_ray pid=72049)\u001b[0m   warnings.warn(stats.ConstantInputWarning(warn_msg))\n",
      "initializing:  81%|██████████████████▋    | 12388/15243 [05:46<01:20, 35.39it/s]\u001b[36m(_score_regions_to_single_gene_ray pid=72049)\u001b[0m /home/roger/.local/lib/python3.8/site-packages/scipy/stats/_stats_py.py:4916: ConstantInputWarning: An input array is constant; the correlation coefficient is not defined.\n",
      "\u001b[36m(_score_regions_to_single_gene_ray pid=72049)\u001b[0m   warnings.warn(stats.ConstantInputWarning(warn_msg))\n",
      "initializing:  85%|███████████████████▌   | 13004/15243 [06:04<01:00, 37.17it/s]\u001b[36m(_score_regions_to_single_gene_ray pid=72049)\u001b[0m /home/roger/.local/lib/python3.8/site-packages/scipy/stats/_stats_py.py:4916: ConstantInputWarning: An input array is constant; the correlation coefficient is not defined.\n",
      "\u001b[36m(_score_regions_to_single_gene_ray pid=72049)\u001b[0m   warnings.warn(stats.ConstantInputWarning(warn_msg))\n",
      "initializing:  90%|████████████████████▋  | 13680/15243 [06:23<00:43, 35.85it/s]\u001b[36m(_score_regions_to_single_gene_ray pid=72049)\u001b[0m /home/roger/.local/lib/python3.8/site-packages/scipy/stats/_stats_py.py:4916: ConstantInputWarning: An input array is constant; the correlation coefficient is not defined.\n",
      "\u001b[36m(_score_regions_to_single_gene_ray pid=72049)\u001b[0m   warnings.warn(stats.ConstantInputWarning(warn_msg))\n",
      "initializing:  96%|██████████████████████ | 14651/15243 [06:51<00:17, 34.42it/s]\u001b[36m(_score_regions_to_single_gene_ray pid=72049)\u001b[0m /home/roger/.local/lib/python3.8/site-packages/scipy/stats/_stats_py.py:4916: ConstantInputWarning: An input array is constant; the correlation coefficient is not defined.\n",
      "\u001b[36m(_score_regions_to_single_gene_ray pid=72049)\u001b[0m   warnings.warn(stats.ConstantInputWarning(warn_msg))\n",
      "initializing:  98%|██████████████████████▌| 14939/15243 [06:59<00:09, 32.90it/s]\u001b[36m(_score_regions_to_single_gene_ray pid=72049)\u001b[0m /home/roger/.local/lib/python3.8/site-packages/scipy/stats/_stats_py.py:4916: ConstantInputWarning: An input array is constant; the correlation coefficient is not defined.\n",
      "\u001b[36m(_score_regions_to_single_gene_ray pid=72049)\u001b[0m   warnings.warn(stats.ConstantInputWarning(warn_msg))\n",
      "initializing:  98%|██████████████████████▌| 14991/15243 [07:01<00:07, 34.91it/s]\u001b[36m(_score_regions_to_single_gene_ray pid=72049)\u001b[0m /home/roger/.local/lib/python3.8/site-packages/scipy/stats/_stats_py.py:4916: ConstantInputWarning: An input array is constant; the correlation coefficient is not defined.\n",
      "\u001b[36m(_score_regions_to_single_gene_ray pid=72049)\u001b[0m   warnings.warn(stats.ConstantInputWarning(warn_msg))\n",
      "initializing: 100%|███████████████████████| 15243/15243 [07:08<00:00, 35.60it/s]\n",
      "Running using 1 cores:   3%|▍              | 396/15243 [00:03<02:20, 105.74it/s]\u001b[36m(_score_regions_to_single_gene_ray pid=72049)\u001b[0m /home/roger/.local/lib/python3.8/site-packages/scipy/stats/_stats_py.py:4916: ConstantInputWarning: An input array is constant; the correlation coefficient is not defined.\n",
      "\u001b[36m(_score_regions_to_single_gene_ray pid=72049)\u001b[0m   warnings.warn(stats.ConstantInputWarning(warn_msg))\n",
      "Running using 1 cores:  10%|█▍            | 1569/15243 [00:14<01:56, 116.98it/s]\u001b[36m(_score_regions_to_single_gene_ray pid=72049)\u001b[0m /home/roger/.local/lib/python3.8/site-packages/scipy/stats/_stats_py.py:4916: ConstantInputWarning: An input array is constant; the correlation coefficient is not defined.\n",
      "\u001b[36m(_score_regions_to_single_gene_ray pid=72049)\u001b[0m   warnings.warn(stats.ConstantInputWarning(warn_msg))\n",
      "Running using 1 cores: 100%|█████████████| 15243/15243 [01:18<00:00, 195.21it/s]\n"
     ]
    },
    {
     "name": "stdout",
     "output_type": "stream",
     "text": [
      "2023-11-22 12:58:04,323 R2G          INFO     Took 510.7445502281189 seconds\n",
      "2023-11-22 12:58:11,874 R2G          INFO     Done!\n",
      "2023-11-22 12:58:12,025 SCENIC+_wrapper INFO     Inferring TF to gene relationships\n"
     ]
    },
    {
     "name": "stderr",
     "output_type": "stream",
     "text": [
      "2023-11-22 12:58:15,075\tINFO worker.py:1664 -- Started a local Ray instance. View the dashboard at \u001b[1m\u001b[32mhttp://127.0.0.1:8265 \u001b[39m\u001b[22m\n"
     ]
    },
    {
     "name": "stdout",
     "output_type": "stream",
     "text": [
      "2023-11-22 12:58:15,417 TF2G         INFO     Calculating TF to gene correlation, using GBM method\n"
     ]
    },
    {
     "name": "stderr",
     "output_type": "stream",
     "text": [
      "initializing:   0%|                        | 19/22787 [00:05<4:30:49,  1.40it/s]\u001b[36m(raylet)\u001b[0m Spilled 2874 MiB, 12 objects, write throughput 965 MiB/s. Set RAY_verbose_spill_logs=0 to disable this message.\n",
      "\u001b[36m(raylet)\u001b[0m Spilled 12899 MiB, 53 objects, write throughput 1158 MiB/s.\n",
      "initializing:   0%|                        | 28/22787 [00:15<3:52:19,  1.63it/s]\u001b[36m(raylet)\u001b[0m Spilled 13618 MiB, 57 objects, write throughput 1145 MiB/s.\n",
      "initializing:   0%|                        | 32/22787 [00:21<7:03:24,  1.12s/it]\u001b[36m(raylet)\u001b[0m Spilled 22281 MiB, 94 objects, write throughput 1432 MiB/s.\n",
      "initializing:   0%|                        | 48/22787 [00:31<3:28:57,  1.81it/s]\u001b[36m(raylet)\u001b[0m Spilled 33024 MiB, 137 objects, write throughput 1408 MiB/s.\n",
      "initializing:   0%|                        | 95/22787 [01:01<3:03:37,  2.06it/s]\u001b[36m(raylet)\u001b[0m Spilled 66843 MiB, 279 objects, write throughput 1330 MiB/s.\n",
      "initializing:   1%|▏                      | 185/22787 [02:00<4:07:16,  1.52it/s]\u001b[36m(raylet)\u001b[0m Spilled 131530 MiB, 549 objects, write throughput 1306 MiB/s.\n",
      "initializing:   2%|▎                      | 366/22787 [03:54<6:53:33,  1.11s/it]\u001b[36m(raylet)\u001b[0m Spilled 262303 MiB, 1094 objects, write throughput 1324 MiB/s.\n",
      "initializing:   3%|▋                      | 731/22787 [07:44<6:32:42,  1.07s/it]\u001b[36m(raylet)\u001b[0m Spilled 524644 MiB, 2189 objects, write throughput 1328 MiB/s.\n",
      "initializing:   6%|█▍                    | 1461/22787 [16:00<2:01:52,  2.92it/s]\u001b[36m(raylet)\u001b[0m Spilled 1048608 MiB, 4376 objects, write throughput 1294 MiB/s.\n",
      "initializing:   6%|█▍                    | 1465/22787 [16:03<2:51:07,  2.08it/s]\u001b[33m(raylet)\u001b[0m [2023-11-22 13:14:19,474 E 115152 115164] (raylet) file_system_monitor.cc:111: /home/roger/tempdir_rayspill/session_2023-11-22_12-58-12_633490_5283 is over 95% full, available space: 42887196672; capacity: 859438485504. Object creation will fail if spilling is required.\n",
      "initializing:   6%|█▍                    | 1466/22787 [16:05<3:53:55,  1.52it/s]\n"
     ]
    },
    {
     "name": "stdout",
     "output_type": "stream",
     "text": [
      "Local disk is full\n",
      "The object cannot be created because the local object store is full and the local disk's utilization is over capacity (95% by default).Tip: Use `df` on this node to check disk usage and `ray memory` to check object store memory usage.\n",
      "2023-11-22 13:14:24,385 TF2G         INFO     Took 968.9667730331421 seconds\n",
      "2023-11-22 13:14:24,388 TF2G         INFO     Adding correlation coefficients to adjacencies.\n"
     ]
    },
    {
     "ename": "UnboundLocalError",
     "evalue": "local variable 'tfs_to_genes' referenced before assignment",
     "output_type": "error",
     "traceback": [
      "\u001b[0;31m---------------------------------------------------------------------------\u001b[0m",
      "\u001b[0;31mUnboundLocalError\u001b[0m                         Traceback (most recent call last)",
      "Cell \u001b[0;32mIn[9], line 23\u001b[0m\n\u001b[1;32m     20\u001b[0m \u001b[38;5;28;01mexcept\u001b[39;00m \u001b[38;5;167;01mException\u001b[39;00m \u001b[38;5;28;01mas\u001b[39;00m e:\n\u001b[1;32m     21\u001b[0m     \u001b[38;5;66;03m#in case of failure, still save the object\u001b[39;00m\n\u001b[1;32m     22\u001b[0m     dill\u001b[38;5;241m.\u001b[39mdump(scplus_obj, \u001b[38;5;28mopen\u001b[39m(os\u001b[38;5;241m.\u001b[39mpath\u001b[38;5;241m.\u001b[39mjoin(work_dir, \u001b[38;5;124m'\u001b[39m\u001b[38;5;124mscenicplus/scplus_obj.pkl\u001b[39m\u001b[38;5;124m'\u001b[39m), \u001b[38;5;124m'\u001b[39m\u001b[38;5;124mwb\u001b[39m\u001b[38;5;124m'\u001b[39m), protocol\u001b[38;5;241m=\u001b[39m\u001b[38;5;241m-\u001b[39m\u001b[38;5;241m1\u001b[39m)\n\u001b[0;32m---> 23\u001b[0m     \u001b[38;5;28;01mraise\u001b[39;00m(e)\n",
      "Cell \u001b[0;32mIn[9], line 3\u001b[0m\n\u001b[1;32m      1\u001b[0m \u001b[38;5;28;01mfrom\u001b[39;00m \u001b[38;5;21;01mscenicplus\u001b[39;00m\u001b[38;5;21;01m.\u001b[39;00m\u001b[38;5;21;01mwrappers\u001b[39;00m\u001b[38;5;21;01m.\u001b[39;00m\u001b[38;5;21;01mrun_scenicplus\u001b[39;00m \u001b[38;5;28;01mimport\u001b[39;00m run_scenicplus\n\u001b[1;32m      2\u001b[0m \u001b[38;5;28;01mtry\u001b[39;00m:\n\u001b[0;32m----> 3\u001b[0m     \u001b[43mrun_scenicplus\u001b[49m\u001b[43m(\u001b[49m\n\u001b[1;32m      4\u001b[0m \u001b[43m        \u001b[49m\u001b[43mscplus_obj\u001b[49m\u001b[43m \u001b[49m\u001b[38;5;241;43m=\u001b[39;49m\u001b[43m \u001b[49m\u001b[43mscplus_obj\u001b[49m\u001b[43m,\u001b[49m\n\u001b[1;32m      5\u001b[0m \u001b[43m        \u001b[49m\u001b[43mvariable\u001b[49m\u001b[43m \u001b[49m\u001b[38;5;241;43m=\u001b[39;49m\u001b[43m \u001b[49m\u001b[43m[\u001b[49m\u001b[38;5;124;43m'\u001b[39;49m\u001b[38;5;124;43mGEX_celltype\u001b[39;49m\u001b[38;5;124;43m'\u001b[39;49m\u001b[43m]\u001b[49m\u001b[43m,\u001b[49m\n\u001b[1;32m      6\u001b[0m \u001b[43m        \u001b[49m\u001b[43mspecies\u001b[49m\u001b[43m \u001b[49m\u001b[38;5;241;43m=\u001b[39;49m\u001b[43m \u001b[49m\u001b[38;5;124;43m'\u001b[39;49m\u001b[38;5;124;43mhsapiens\u001b[39;49m\u001b[38;5;124;43m'\u001b[39;49m\u001b[43m,\u001b[49m\n\u001b[1;32m      7\u001b[0m \u001b[43m        \u001b[49m\u001b[43massembly\u001b[49m\u001b[43m \u001b[49m\u001b[38;5;241;43m=\u001b[39;49m\u001b[43m \u001b[49m\u001b[38;5;124;43m'\u001b[39;49m\u001b[38;5;124;43mhg38\u001b[39;49m\u001b[38;5;124;43m'\u001b[39;49m\u001b[43m,\u001b[49m\n\u001b[1;32m      8\u001b[0m \u001b[43m        \u001b[49m\u001b[43mtf_file\u001b[49m\u001b[43m \u001b[49m\u001b[38;5;241;43m=\u001b[39;49m\u001b[43m \u001b[49m\u001b[38;5;124;43m'\u001b[39;49m\u001b[38;5;124;43m/home/roger/Github/OpenProblems/Conda/scenicplus/TF_names_v_1.01.txt\u001b[39;49m\u001b[38;5;124;43m'\u001b[39;49m\u001b[43m,\u001b[49m\n\u001b[1;32m      9\u001b[0m \u001b[43m        \u001b[49m\u001b[43msave_path\u001b[49m\u001b[43m \u001b[49m\u001b[38;5;241;43m=\u001b[39;49m\u001b[43m \u001b[49m\u001b[43mos\u001b[49m\u001b[38;5;241;43m.\u001b[39;49m\u001b[43mpath\u001b[49m\u001b[38;5;241;43m.\u001b[39;49m\u001b[43mjoin\u001b[49m\u001b[43m(\u001b[49m\u001b[43mwork_dir\u001b[49m\u001b[43m,\u001b[49m\u001b[43m \u001b[49m\u001b[38;5;124;43m'\u001b[39;49m\u001b[38;5;124;43mscenicplus\u001b[39;49m\u001b[38;5;124;43m'\u001b[39;49m\u001b[43m)\u001b[49m\u001b[43m,\u001b[49m\n\u001b[1;32m     10\u001b[0m \u001b[43m        \u001b[49m\u001b[43mbiomart_host\u001b[49m\u001b[43m \u001b[49m\u001b[38;5;241;43m=\u001b[39;49m\u001b[43m \u001b[49m\u001b[43mbiomart_host\u001b[49m\u001b[43m,\u001b[49m\n\u001b[1;32m     11\u001b[0m \u001b[43m        \u001b[49m\u001b[43mupstream\u001b[49m\u001b[43m \u001b[49m\u001b[38;5;241;43m=\u001b[39;49m\u001b[43m \u001b[49m\u001b[43m[\u001b[49m\u001b[38;5;241;43m1000\u001b[39;49m\u001b[43m,\u001b[49m\u001b[43m \u001b[49m\u001b[38;5;241;43m150000\u001b[39;49m\u001b[43m]\u001b[49m\u001b[43m,\u001b[49m\n\u001b[1;32m     12\u001b[0m \u001b[43m        \u001b[49m\u001b[43mdownstream\u001b[49m\u001b[43m \u001b[49m\u001b[38;5;241;43m=\u001b[39;49m\u001b[43m \u001b[49m\u001b[43m[\u001b[49m\u001b[38;5;241;43m1000\u001b[39;49m\u001b[43m,\u001b[49m\u001b[43m \u001b[49m\u001b[38;5;241;43m150000\u001b[39;49m\u001b[43m]\u001b[49m\u001b[43m,\u001b[49m\n\u001b[1;32m     13\u001b[0m \u001b[43m        \u001b[49m\u001b[43mcalculate_TF_eGRN_correlation\u001b[49m\u001b[43m \u001b[49m\u001b[38;5;241;43m=\u001b[39;49m\u001b[43m \u001b[49m\u001b[38;5;28;43;01mTrue\u001b[39;49;00m\u001b[43m,\u001b[49m\n\u001b[1;32m     14\u001b[0m \u001b[43m        \u001b[49m\u001b[43mcalculate_DEGs_DARs\u001b[49m\u001b[43m \u001b[49m\u001b[38;5;241;43m=\u001b[39;49m\u001b[43m \u001b[49m\u001b[38;5;28;43;01mTrue\u001b[39;49;00m\u001b[43m,\u001b[49m\n\u001b[1;32m     15\u001b[0m \u001b[43m        \u001b[49m\u001b[43mexport_to_loom_file\u001b[49m\u001b[43m \u001b[49m\u001b[38;5;241;43m=\u001b[39;49m\u001b[43m \u001b[49m\u001b[38;5;28;43;01mTrue\u001b[39;49;00m\u001b[43m,\u001b[49m\n\u001b[1;32m     16\u001b[0m \u001b[43m        \u001b[49m\u001b[43mexport_to_UCSC_file\u001b[49m\u001b[43m \u001b[49m\u001b[38;5;241;43m=\u001b[39;49m\u001b[43m \u001b[49m\u001b[38;5;28;43;01mTrue\u001b[39;49;00m\u001b[43m,\u001b[49m\n\u001b[1;32m     17\u001b[0m \u001b[43m        \u001b[49m\u001b[43mpath_bedToBigBed\u001b[49m\u001b[43m \u001b[49m\u001b[38;5;241;43m=\u001b[39;49m\u001b[43m \u001b[49m\u001b[38;5;124;43m'\u001b[39;49m\u001b[38;5;124;43m/home/roger/Github/OpenProblems/Conda/scenicplus/\u001b[39;49m\u001b[38;5;124;43m'\u001b[39;49m\u001b[43m,\u001b[49m\n\u001b[1;32m     18\u001b[0m \u001b[43m        \u001b[49m\u001b[43mn_cpu\u001b[49m\u001b[43m \u001b[49m\u001b[38;5;241;43m=\u001b[39;49m\u001b[43m \u001b[49m\u001b[38;5;241;43m1\u001b[39;49m\u001b[43m,\u001b[49m\n\u001b[1;32m     19\u001b[0m \u001b[43m        \u001b[49m\u001b[43m_temp_dir\u001b[49m\u001b[43m \u001b[49m\u001b[38;5;241;43m=\u001b[39;49m\u001b[43m \u001b[49m\u001b[38;5;124;43m'\u001b[39;49m\u001b[38;5;124;43m/home/roger/tempdir_rayspill\u001b[39;49m\u001b[38;5;124;43m'\u001b[39;49m\u001b[43m)\u001b[49m\n\u001b[1;32m     20\u001b[0m \u001b[38;5;28;01mexcept\u001b[39;00m \u001b[38;5;167;01mException\u001b[39;00m \u001b[38;5;28;01mas\u001b[39;00m e:\n\u001b[1;32m     21\u001b[0m     \u001b[38;5;66;03m#in case of failure, still save the object\u001b[39;00m\n\u001b[1;32m     22\u001b[0m     dill\u001b[38;5;241m.\u001b[39mdump(scplus_obj, \u001b[38;5;28mopen\u001b[39m(os\u001b[38;5;241m.\u001b[39mpath\u001b[38;5;241m.\u001b[39mjoin(work_dir, \u001b[38;5;124m'\u001b[39m\u001b[38;5;124mscenicplus/scplus_obj.pkl\u001b[39m\u001b[38;5;124m'\u001b[39m), \u001b[38;5;124m'\u001b[39m\u001b[38;5;124mwb\u001b[39m\u001b[38;5;124m'\u001b[39m), protocol\u001b[38;5;241m=\u001b[39m\u001b[38;5;241m-\u001b[39m\u001b[38;5;241m1\u001b[39m)\n",
      "File \u001b[0;32m~/Github/OpenProblems/Conda/scenicplus/src/scenicplus/wrappers/run_scenicplus.py:156\u001b[0m, in \u001b[0;36mrun_scenicplus\u001b[0;34m(scplus_obj, variable, species, assembly, tf_file, save_path, biomart_host, upstream, downstream, region_ranking, gene_ranking, simplified_eGRN, calculate_TF_eGRN_correlation, calculate_DEGs_DARs, export_to_loom_file, export_to_UCSC_file, tree_structure, path_bedToBigBed, n_cpu, _temp_dir, save_partial, **kwargs)\u001b[0m\n\u001b[1;32m    154\u001b[0m \u001b[38;5;28;01mif\u001b[39;00m \u001b[38;5;124m'\u001b[39m\u001b[38;5;124mTF2G_adj\u001b[39m\u001b[38;5;124m'\u001b[39m \u001b[38;5;129;01mnot\u001b[39;00m \u001b[38;5;129;01min\u001b[39;00m scplus_obj\u001b[38;5;241m.\u001b[39muns\u001b[38;5;241m.\u001b[39mkeys():\n\u001b[1;32m    155\u001b[0m     log\u001b[38;5;241m.\u001b[39minfo(\u001b[38;5;124m'\u001b[39m\u001b[38;5;124mInferring TF to gene relationships\u001b[39m\u001b[38;5;124m'\u001b[39m)\n\u001b[0;32m--> 156\u001b[0m     \u001b[43mcalculate_TFs_to_genes_relationships\u001b[49m\u001b[43m(\u001b[49m\u001b[43mscplus_obj\u001b[49m\u001b[43m,\u001b[49m\u001b[43m \u001b[49m\n\u001b[1;32m    157\u001b[0m \u001b[43m                    \u001b[49m\u001b[43mtf_file\u001b[49m\u001b[43m \u001b[49m\u001b[38;5;241;43m=\u001b[39;49m\u001b[43m \u001b[49m\u001b[43mtf_file\u001b[49m\u001b[43m,\u001b[49m\n\u001b[1;32m    158\u001b[0m \u001b[43m                    \u001b[49m\u001b[43mray_n_cpu\u001b[49m\u001b[43m \u001b[49m\u001b[38;5;241;43m=\u001b[39;49m\u001b[43m \u001b[49m\u001b[43mn_cpu\u001b[49m\u001b[43m,\u001b[49m\u001b[43m \u001b[49m\n\u001b[1;32m    159\u001b[0m \u001b[43m                    \u001b[49m\u001b[43mmethod\u001b[49m\u001b[43m \u001b[49m\u001b[38;5;241;43m=\u001b[39;49m\u001b[43m \u001b[49m\u001b[38;5;124;43m'\u001b[39;49m\u001b[38;5;124;43mGBM\u001b[39;49m\u001b[38;5;124;43m'\u001b[39;49m\u001b[43m,\u001b[49m\n\u001b[1;32m    160\u001b[0m \u001b[43m                    \u001b[49m\u001b[43m_temp_dir\u001b[49m\u001b[43m \u001b[49m\u001b[38;5;241;43m=\u001b[39;49m\u001b[43m \u001b[49m\u001b[43m_temp_dir\u001b[49m\u001b[43m,\u001b[49m\n\u001b[1;32m    161\u001b[0m \u001b[43m                    \u001b[49m\u001b[43mkey\u001b[49m\u001b[38;5;241;43m=\u001b[39;49m\u001b[43m \u001b[49m\u001b[38;5;124;43m'\u001b[39;49m\u001b[38;5;124;43mTF2G_adj\u001b[39;49m\u001b[38;5;124;43m'\u001b[39;49m\u001b[43m,\u001b[49m\n\u001b[1;32m    162\u001b[0m \u001b[43m                    \u001b[49m\u001b[38;5;241;43m*\u001b[39;49m\u001b[38;5;241;43m*\u001b[39;49m\u001b[43mkwargs\u001b[49m\u001b[43m)\u001b[49m\n\u001b[1;32m    163\u001b[0m \u001b[38;5;28;01mif\u001b[39;00m save_partial:\n\u001b[1;32m    164\u001b[0m     log\u001b[38;5;241m.\u001b[39minfo(\u001b[38;5;124m'\u001b[39m\u001b[38;5;124mSaving partial object\u001b[39m\u001b[38;5;124m'\u001b[39m)\n",
      "File \u001b[0;32m~/Github/OpenProblems/Conda/scenicplus/src/scenicplus/TF_to_gene.py:332\u001b[0m, in \u001b[0;36mcalculate_TFs_to_genes_relationships\u001b[0;34m(scplus_obj, tf_file, method, ray_n_cpu, key, **kwargs)\u001b[0m\n\u001b[1;32m    330\u001b[0m start_time \u001b[38;5;241m=\u001b[39m time\u001b[38;5;241m.\u001b[39mtime()\n\u001b[1;32m    331\u001b[0m log\u001b[38;5;241m.\u001b[39minfo(\u001b[38;5;124mf\u001b[39m\u001b[38;5;124m'\u001b[39m\u001b[38;5;124mAdding correlation coefficients to adjacencies.\u001b[39m\u001b[38;5;124m'\u001b[39m)\n\u001b[0;32m--> 332\u001b[0m adj \u001b[38;5;241m=\u001b[39m pd\u001b[38;5;241m.\u001b[39mconcat(\u001b[43mtfs_to_genes\u001b[49m)\u001b[38;5;241m.\u001b[39msort_values(by\u001b[38;5;241m=\u001b[39m\u001b[38;5;124m'\u001b[39m\u001b[38;5;124mimportance\u001b[39m\u001b[38;5;124m'\u001b[39m, ascending\u001b[38;5;241m=\u001b[39m\u001b[38;5;28;01mFalse\u001b[39;00m)\n\u001b[1;32m    333\u001b[0m ex_matrix \u001b[38;5;241m=\u001b[39m pd\u001b[38;5;241m.\u001b[39mDataFrame(\n\u001b[1;32m    334\u001b[0m     scplus_obj\u001b[38;5;241m.\u001b[39mX_EXP, index\u001b[38;5;241m=\u001b[39mscplus_obj\u001b[38;5;241m.\u001b[39mcell_names, columns\u001b[38;5;241m=\u001b[39mscplus_obj\u001b[38;5;241m.\u001b[39mgene_names)\n\u001b[1;32m    335\u001b[0m adj \u001b[38;5;241m=\u001b[39m _add_correlation(adj, ex_matrix)\n",
      "\u001b[0;31mUnboundLocalError\u001b[0m: local variable 'tfs_to_genes' referenced before assignment"
     ]
    }
   ],
   "source": [
    "from scenicplus.wrappers.run_scenicplus import run_scenicplus\n",
    "try:\n",
    "    run_scenicplus(\n",
    "        scplus_obj = scplus_obj,\n",
    "        variable = ['GEX_celltype'],\n",
    "        species = 'hsapiens',\n",
    "        assembly = 'hg38',\n",
    "        tf_file = '/home/roger/Github/OpenProblems/Conda/scenicplus/TF_names_v_1.01.txt',\n",
    "        save_path = os.path.join(work_dir, 'scenicplus'),\n",
    "        biomart_host = biomart_host,\n",
    "        upstream = [1000, 150000],\n",
    "        downstream = [1000, 150000],\n",
    "        calculate_TF_eGRN_correlation = True,\n",
    "        calculate_DEGs_DARs = True,\n",
    "        export_to_loom_file = True,\n",
    "        export_to_UCSC_file = True,\n",
    "        path_bedToBigBed = '/home/roger/Github/OpenProblems/Conda/scenicplus/',\n",
    "        n_cpu = 1,\n",
    "        _temp_dir = '/home/roger/tempdir_rayspill')\n",
    "except Exception as e:\n",
    "    #in case of failure, still save the object\n",
    "    dill.dump(scplus_obj, open(os.path.join(work_dir, 'scenicplus/scplus_obj.pkl'), 'wb'), protocol=-1)\n",
    "    raise(e)"
   ]
  }
 ],
 "metadata": {
  "kernelspec": {
   "display_name": "Python 3 (ipykernel)",
   "language": "python",
   "name": "python3"
  },
  "language_info": {
   "codemirror_mode": {
    "name": "ipython",
    "version": 3
   },
   "file_extension": ".py",
   "mimetype": "text/x-python",
   "name": "python",
   "nbconvert_exporter": "python",
   "pygments_lexer": "ipython3",
   "version": "3.8.18"
  }
 },
 "nbformat": 4,
 "nbformat_minor": 5
}
